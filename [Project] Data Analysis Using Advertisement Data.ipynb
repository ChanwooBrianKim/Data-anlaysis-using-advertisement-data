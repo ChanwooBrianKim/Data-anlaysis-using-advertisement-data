{
 "cells": [
  {
   "cell_type": "code",
   "execution_count": 2,
   "metadata": {},
   "outputs": [],
   "source": [
    "import pandas as pd\n",
    "from pandas import DataFrame\n",
    "from pandas import Series"
   ]
  },
  {
   "cell_type": "code",
   "execution_count": 3,
   "metadata": {},
   "outputs": [],
   "source": [
    "import matplotlib.pyplot as plt"
   ]
  },
  {
   "cell_type": "code",
   "execution_count": 21,
   "metadata": {},
   "outputs": [],
   "source": [
    "# Load data with read_excel function\n",
    "\n",
    "df = pd.read_excel('C:/Users/kcw98/Desktop/Part 13~17 Project/01. Data anlaysis using advertisement data/Data/Naver_report.xls')"
   ]
  },
  {
   "cell_type": "code",
   "execution_count": 34,
   "metadata": {},
   "outputs": [
    {
     "data": {
      "text/html": [
       "<div>\n",
       "<style scoped>\n",
       "    .dataframe tbody tr th:only-of-type {\n",
       "        vertical-align: middle;\n",
       "    }\n",
       "\n",
       "    .dataframe tbody tr th {\n",
       "        vertical-align: top;\n",
       "    }\n",
       "\n",
       "    .dataframe thead th {\n",
       "        text-align: right;\n",
       "    }\n",
       "</style>\n",
       "<table border=\"1\" class=\"dataframe\">\n",
       "  <thead>\n",
       "    <tr style=\"text-align: right;\">\n",
       "      <th></th>\n",
       "      <th>캠페인보고서(2019.02.01.~2019.04.30.),ftasia</th>\n",
       "      <th>Unnamed: 1</th>\n",
       "      <th>Unnamed: 2</th>\n",
       "      <th>Unnamed: 3</th>\n",
       "      <th>Unnamed: 4</th>\n",
       "      <th>Unnamed: 5</th>\n",
       "      <th>Unnamed: 6</th>\n",
       "    </tr>\n",
       "  </thead>\n",
       "  <tbody>\n",
       "    <tr>\n",
       "      <th>0</th>\n",
       "      <td>광고그룹</td>\n",
       "      <td>키워드</td>\n",
       "      <td>노출수</td>\n",
       "      <td>클릭수</td>\n",
       "      <td>클릭률(%)</td>\n",
       "      <td>평균클릭비용(VAT포함,원)</td>\n",
       "      <td>총비용(VAT포함,원)</td>\n",
       "    </tr>\n",
       "    <tr>\n",
       "      <th>1</th>\n",
       "      <td>올인원 패키지 : 디자인 툴_파워컨텐츠_포토샵</td>\n",
       "      <td>-</td>\n",
       "      <td>2319456</td>\n",
       "      <td>9606</td>\n",
       "      <td>0.414149</td>\n",
       "      <td>261.549</td>\n",
       "      <td>2512444</td>\n",
       "    </tr>\n",
       "    <tr>\n",
       "      <th>2</th>\n",
       "      <td>올인원 패키지 : 업무자동화_VBA</td>\n",
       "      <td>-</td>\n",
       "      <td>767491</td>\n",
       "      <td>8058</td>\n",
       "      <td>1.04991</td>\n",
       "      <td>295.975</td>\n",
       "      <td>2384965</td>\n",
       "    </tr>\n",
       "    <tr>\n",
       "      <th>3</th>\n",
       "      <td>ㅍAOP 전체_중복키워드_디자인(삭제)</td>\n",
       "      <td>일러스트</td>\n",
       "      <td>1137840</td>\n",
       "      <td>324</td>\n",
       "      <td>0.028475</td>\n",
       "      <td>4841.66</td>\n",
       "      <td>1568699</td>\n",
       "    </tr>\n",
       "    <tr>\n",
       "      <th>4</th>\n",
       "      <td>올인원 패키지 : 데이터 분석 입문 온라인_파콘</td>\n",
       "      <td>-</td>\n",
       "      <td>694106</td>\n",
       "      <td>1863.6</td>\n",
       "      <td>0.268489</td>\n",
       "      <td>630.593</td>\n",
       "      <td>1175174</td>\n",
       "    </tr>\n",
       "  </tbody>\n",
       "</table>\n",
       "</div>"
      ],
      "text/plain": [
       "  캠페인보고서(2019.02.01.~2019.04.30.),ftasia Unnamed: 1 Unnamed: 2 Unnamed: 3  \\\n",
       "0                                   광고그룹        키워드        노출수        클릭수   \n",
       "1              올인원 패키지 : 디자인 툴_파워컨텐츠_포토샵          -    2319456       9606   \n",
       "2                    올인원 패키지 : 업무자동화_VBA          -     767491       8058   \n",
       "3                  ㅍAOP 전체_중복키워드_디자인(삭제)       일러스트    1137840        324   \n",
       "4             올인원 패키지 : 데이터 분석 입문 온라인_파콘          -     694106     1863.6   \n",
       "\n",
       "  Unnamed: 4       Unnamed: 5    Unnamed: 6  \n",
       "0     클릭률(%)  평균클릭비용(VAT포함,원)  총비용(VAT포함,원)  \n",
       "1   0.414149          261.549       2512444  \n",
       "2    1.04991          295.975       2384965  \n",
       "3   0.028475          4841.66       1568699  \n",
       "4   0.268489          630.593       1175174  "
      ]
     },
     "execution_count": 34,
     "metadata": {},
     "output_type": "execute_result"
    }
   ],
   "source": [
    "# head - Check if correct data\n",
    "df.head()"
   ]
  },
  {
   "cell_type": "code",
   "execution_count": 17,
   "metadata": {},
   "outputs": [
    {
     "data": {
      "text/html": [
       "<div>\n",
       "<style scoped>\n",
       "    .dataframe tbody tr th:only-of-type {\n",
       "        vertical-align: middle;\n",
       "    }\n",
       "\n",
       "    .dataframe tbody tr th {\n",
       "        vertical-align: top;\n",
       "    }\n",
       "\n",
       "    .dataframe thead th {\n",
       "        text-align: right;\n",
       "    }\n",
       "</style>\n",
       "<table border=\"1\" class=\"dataframe\">\n",
       "  <thead>\n",
       "    <tr style=\"text-align: right;\">\n",
       "      <th></th>\n",
       "      <th>광고그룹</th>\n",
       "      <th>키워드</th>\n",
       "      <th>노출수</th>\n",
       "      <th>클릭수</th>\n",
       "      <th>클릭률(%)</th>\n",
       "      <th>평균클릭비용(VAT포함,원)</th>\n",
       "      <th>총비용(VAT포함,원)</th>\n",
       "    </tr>\n",
       "  </thead>\n",
       "  <tbody>\n",
       "    <tr>\n",
       "      <th>0</th>\n",
       "      <td>올인원 패키지 : 디자인 툴_파워컨텐츠_포토샵</td>\n",
       "      <td>-</td>\n",
       "      <td>2319456</td>\n",
       "      <td>9606.0</td>\n",
       "      <td>0.414149</td>\n",
       "      <td>261.549448</td>\n",
       "      <td>2512444</td>\n",
       "    </tr>\n",
       "    <tr>\n",
       "      <th>1</th>\n",
       "      <td>올인원 패키지 : 업무자동화_VBA</td>\n",
       "      <td>-</td>\n",
       "      <td>767491</td>\n",
       "      <td>8058.0</td>\n",
       "      <td>1.049915</td>\n",
       "      <td>295.974808</td>\n",
       "      <td>2384965</td>\n",
       "    </tr>\n",
       "    <tr>\n",
       "      <th>2</th>\n",
       "      <td>ㅍAOP 전체_중복키워드_디자인(삭제)</td>\n",
       "      <td>일러스트</td>\n",
       "      <td>1137840</td>\n",
       "      <td>324.0</td>\n",
       "      <td>0.028475</td>\n",
       "      <td>4841.663580</td>\n",
       "      <td>1568699</td>\n",
       "    </tr>\n",
       "    <tr>\n",
       "      <th>3</th>\n",
       "      <td>올인원 패키지 : 데이터 분석 입문 온라인_파콘</td>\n",
       "      <td>-</td>\n",
       "      <td>694106</td>\n",
       "      <td>1863.6</td>\n",
       "      <td>0.268489</td>\n",
       "      <td>630.593475</td>\n",
       "      <td>1175174</td>\n",
       "    </tr>\n",
       "    <tr>\n",
       "      <th>4</th>\n",
       "      <td>3. html</td>\n",
       "      <td>HTML</td>\n",
       "      <td>9626374</td>\n",
       "      <td>813.6</td>\n",
       "      <td>0.008452</td>\n",
       "      <td>1408.435349</td>\n",
       "      <td>1145903</td>\n",
       "    </tr>\n",
       "  </tbody>\n",
       "</table>\n",
       "</div>"
      ],
      "text/plain": [
       "                         광고그룹   키워드      노출수     클릭수    클릭률(%)  \\\n",
       "0   올인원 패키지 : 디자인 툴_파워컨텐츠_포토샵     -  2319456  9606.0  0.414149   \n",
       "1         올인원 패키지 : 업무자동화_VBA     -   767491  8058.0  1.049915   \n",
       "2       ㅍAOP 전체_중복키워드_디자인(삭제)  일러스트  1137840   324.0  0.028475   \n",
       "3  올인원 패키지 : 데이터 분석 입문 온라인_파콘     -   694106  1863.6  0.268489   \n",
       "4                     3. html  HTML  9626374   813.6  0.008452   \n",
       "\n",
       "   평균클릭비용(VAT포함,원)  총비용(VAT포함,원)  \n",
       "0       261.549448       2512444  \n",
       "1       295.974808       2384965  \n",
       "2      4841.663580       1568699  \n",
       "3       630.593475       1175174  \n",
       "4      1408.435349       1145903  "
      ]
     },
     "execution_count": 17,
     "metadata": {},
     "output_type": "execute_result"
    }
   ],
   "source": [
    "# Delete firt row using skiprows (Unneeded data) \n",
    "df=pd.read_excel('C:/Users/kcw98/Desktop/Part 13~17 Project/01. Data anlaysis using advertisement data/Data/Naver_report.xls', skiprows=[0])\n",
    "\n",
    "# Head\n",
    "df.head()"
   ]
  },
  {
   "cell_type": "code",
   "execution_count": 38,
   "metadata": {},
   "outputs": [
    {
     "data": {
      "text/html": [
       "<div>\n",
       "<style scoped>\n",
       "    .dataframe tbody tr th:only-of-type {\n",
       "        vertical-align: middle;\n",
       "    }\n",
       "\n",
       "    .dataframe tbody tr th {\n",
       "        vertical-align: top;\n",
       "    }\n",
       "\n",
       "    .dataframe thead th {\n",
       "        text-align: right;\n",
       "    }\n",
       "</style>\n",
       "<table border=\"1\" class=\"dataframe\">\n",
       "  <thead>\n",
       "    <tr style=\"text-align: right;\">\n",
       "      <th></th>\n",
       "      <th>광고그룹</th>\n",
       "      <th>키워드</th>\n",
       "      <th>노출수</th>\n",
       "      <th>클릭수</th>\n",
       "      <th>클릭률(%)</th>\n",
       "      <th>평균클릭비용(VAT포함,원)</th>\n",
       "      <th>총비용(VAT포함,원)</th>\n",
       "    </tr>\n",
       "  </thead>\n",
       "  <tbody>\n",
       "    <tr>\n",
       "      <th>0</th>\n",
       "      <td>올인원 패키지 : 업무자동화_VBA</td>\n",
       "      <td>-</td>\n",
       "      <td>767491</td>\n",
       "      <td>8058.0</td>\n",
       "      <td>1.049915</td>\n",
       "      <td>295.974808</td>\n",
       "      <td>2384965</td>\n",
       "    </tr>\n",
       "    <tr>\n",
       "      <th>1</th>\n",
       "      <td>올인원 패키지 : 데이터 분석 입문 온라인_파콘</td>\n",
       "      <td>-</td>\n",
       "      <td>694106</td>\n",
       "      <td>1863.6</td>\n",
       "      <td>0.268489</td>\n",
       "      <td>630.593475</td>\n",
       "      <td>1175174</td>\n",
       "    </tr>\n",
       "    <tr>\n",
       "      <th>2</th>\n",
       "      <td>3. html</td>\n",
       "      <td>HTML</td>\n",
       "      <td>9626374</td>\n",
       "      <td>813.6</td>\n",
       "      <td>0.008452</td>\n",
       "      <td>1408.435349</td>\n",
       "      <td>1145903</td>\n",
       "    </tr>\n",
       "    <tr>\n",
       "      <th>3</th>\n",
       "      <td>6. 파이썬</td>\n",
       "      <td>파이썬</td>\n",
       "      <td>384522</td>\n",
       "      <td>260.4</td>\n",
       "      <td>0.067720</td>\n",
       "      <td>3705.360983</td>\n",
       "      <td>964876</td>\n",
       "    </tr>\n",
       "    <tr>\n",
       "      <th>4</th>\n",
       "      <td>1. 코딩</td>\n",
       "      <td>코딩</td>\n",
       "      <td>562162</td>\n",
       "      <td>271.2</td>\n",
       "      <td>0.048242</td>\n",
       "      <td>3243.215339</td>\n",
       "      <td>879560</td>\n",
       "    </tr>\n",
       "  </tbody>\n",
       "</table>\n",
       "</div>"
      ],
      "text/plain": [
       "                         광고그룹   키워드      노출수     클릭수    클릭률(%)  \\\n",
       "0         올인원 패키지 : 업무자동화_VBA     -   767491  8058.0  1.049915   \n",
       "1  올인원 패키지 : 데이터 분석 입문 온라인_파콘     -   694106  1863.6  0.268489   \n",
       "2                     3. html  HTML  9626374   813.6  0.008452   \n",
       "3                      6. 파이썬   파이썬   384522   260.4  0.067720   \n",
       "4                       1. 코딩    코딩   562162   271.2  0.048242   \n",
       "\n",
       "   평균클릭비용(VAT포함,원)  총비용(VAT포함,원)  \n",
       "0       295.974808       2384965  \n",
       "1       630.593475       1175174  \n",
       "2      1408.435349       1145903  \n",
       "3      3705.360983        964876  \n",
       "4      3243.215339        879560  "
      ]
     },
     "execution_count": 38,
     "metadata": {},
     "output_type": "execute_result"
    }
   ],
   "source": [
    "# Delete multiple rows\n",
    "df=pd.read_excel('C:/Users/kcw98/Desktop/Part 13~17 Project/01. Data anlaysis using advertisement data/Data/Naver_report.xls', skiprows=[0, 2, 4])\n",
    "\n",
    "# Head\n",
    "df.head()"
   ]
  },
  {
   "cell_type": "code",
   "execution_count": 22,
   "metadata": {},
   "outputs": [
    {
     "data": {
      "text/html": [
       "<div>\n",
       "<style scoped>\n",
       "    .dataframe tbody tr th:only-of-type {\n",
       "        vertical-align: middle;\n",
       "    }\n",
       "\n",
       "    .dataframe tbody tr th {\n",
       "        vertical-align: top;\n",
       "    }\n",
       "\n",
       "    .dataframe thead th {\n",
       "        text-align: right;\n",
       "    }\n",
       "</style>\n",
       "<table border=\"1\" class=\"dataframe\">\n",
       "  <thead>\n",
       "    <tr style=\"text-align: right;\">\n",
       "      <th></th>\n",
       "      <th>캠페인보고서(2019.02.01.~2019.04.30.),ftasia</th>\n",
       "      <th>Unnamed: 1</th>\n",
       "      <th>Unnamed: 2</th>\n",
       "      <th>Unnamed: 3</th>\n",
       "      <th>Unnamed: 4</th>\n",
       "      <th>Unnamed: 5</th>\n",
       "      <th>Unnamed: 6</th>\n",
       "    </tr>\n",
       "  </thead>\n",
       "  <tbody>\n",
       "    <tr>\n",
       "      <th>0</th>\n",
       "      <td>False</td>\n",
       "      <td>False</td>\n",
       "      <td>False</td>\n",
       "      <td>False</td>\n",
       "      <td>False</td>\n",
       "      <td>False</td>\n",
       "      <td>False</td>\n",
       "    </tr>\n",
       "    <tr>\n",
       "      <th>1</th>\n",
       "      <td>False</td>\n",
       "      <td>False</td>\n",
       "      <td>False</td>\n",
       "      <td>False</td>\n",
       "      <td>False</td>\n",
       "      <td>False</td>\n",
       "      <td>False</td>\n",
       "    </tr>\n",
       "    <tr>\n",
       "      <th>2</th>\n",
       "      <td>False</td>\n",
       "      <td>False</td>\n",
       "      <td>False</td>\n",
       "      <td>False</td>\n",
       "      <td>False</td>\n",
       "      <td>False</td>\n",
       "      <td>False</td>\n",
       "    </tr>\n",
       "    <tr>\n",
       "      <th>3</th>\n",
       "      <td>False</td>\n",
       "      <td>False</td>\n",
       "      <td>False</td>\n",
       "      <td>False</td>\n",
       "      <td>False</td>\n",
       "      <td>False</td>\n",
       "      <td>False</td>\n",
       "    </tr>\n",
       "    <tr>\n",
       "      <th>4</th>\n",
       "      <td>False</td>\n",
       "      <td>False</td>\n",
       "      <td>False</td>\n",
       "      <td>False</td>\n",
       "      <td>False</td>\n",
       "      <td>False</td>\n",
       "      <td>False</td>\n",
       "    </tr>\n",
       "    <tr>\n",
       "      <th>...</th>\n",
       "      <td>...</td>\n",
       "      <td>...</td>\n",
       "      <td>...</td>\n",
       "      <td>...</td>\n",
       "      <td>...</td>\n",
       "      <td>...</td>\n",
       "      <td>...</td>\n",
       "    </tr>\n",
       "    <tr>\n",
       "      <th>1377</th>\n",
       "      <td>False</td>\n",
       "      <td>False</td>\n",
       "      <td>False</td>\n",
       "      <td>False</td>\n",
       "      <td>False</td>\n",
       "      <td>False</td>\n",
       "      <td>False</td>\n",
       "    </tr>\n",
       "    <tr>\n",
       "      <th>1378</th>\n",
       "      <td>False</td>\n",
       "      <td>False</td>\n",
       "      <td>False</td>\n",
       "      <td>False</td>\n",
       "      <td>False</td>\n",
       "      <td>False</td>\n",
       "      <td>False</td>\n",
       "    </tr>\n",
       "    <tr>\n",
       "      <th>1379</th>\n",
       "      <td>False</td>\n",
       "      <td>False</td>\n",
       "      <td>False</td>\n",
       "      <td>False</td>\n",
       "      <td>False</td>\n",
       "      <td>False</td>\n",
       "      <td>False</td>\n",
       "    </tr>\n",
       "    <tr>\n",
       "      <th>1380</th>\n",
       "      <td>False</td>\n",
       "      <td>False</td>\n",
       "      <td>False</td>\n",
       "      <td>False</td>\n",
       "      <td>False</td>\n",
       "      <td>False</td>\n",
       "      <td>False</td>\n",
       "    </tr>\n",
       "    <tr>\n",
       "      <th>1381</th>\n",
       "      <td>False</td>\n",
       "      <td>False</td>\n",
       "      <td>False</td>\n",
       "      <td>False</td>\n",
       "      <td>False</td>\n",
       "      <td>False</td>\n",
       "      <td>False</td>\n",
       "    </tr>\n",
       "  </tbody>\n",
       "</table>\n",
       "<p>1382 rows × 7 columns</p>\n",
       "</div>"
      ],
      "text/plain": [
       "      캠페인보고서(2019.02.01.~2019.04.30.),ftasia  Unnamed: 1  Unnamed: 2  \\\n",
       "0                                      False       False       False   \n",
       "1                                      False       False       False   \n",
       "2                                      False       False       False   \n",
       "3                                      False       False       False   \n",
       "4                                      False       False       False   \n",
       "...                                      ...         ...         ...   \n",
       "1377                                   False       False       False   \n",
       "1378                                   False       False       False   \n",
       "1379                                   False       False       False   \n",
       "1380                                   False       False       False   \n",
       "1381                                   False       False       False   \n",
       "\n",
       "      Unnamed: 3  Unnamed: 4  Unnamed: 5  Unnamed: 6  \n",
       "0          False       False       False       False  \n",
       "1          False       False       False       False  \n",
       "2          False       False       False       False  \n",
       "3          False       False       False       False  \n",
       "4          False       False       False       False  \n",
       "...          ...         ...         ...         ...  \n",
       "1377       False       False       False       False  \n",
       "1378       False       False       False       False  \n",
       "1379       False       False       False       False  \n",
       "1380       False       False       False       False  \n",
       "1381       False       False       False       False  \n",
       "\n",
       "[1382 rows x 7 columns]"
      ]
     },
     "execution_count": 22,
     "metadata": {},
     "output_type": "execute_result"
    }
   ],
   "source": [
    "# Check missing data\n",
    "df.isnull()"
   ]
  },
  {
   "cell_type": "code",
   "execution_count": 23,
   "metadata": {},
   "outputs": [
    {
     "data": {
      "text/plain": [
       "캠페인보고서(2019.02.01.~2019.04.30.),ftasia    0\n",
       "Unnamed: 1                                0\n",
       "Unnamed: 2                                0\n",
       "Unnamed: 3                                0\n",
       "Unnamed: 4                                0\n",
       "Unnamed: 5                                0\n",
       "Unnamed: 6                                0\n",
       "dtype: int64"
      ]
     },
     "execution_count": 23,
     "metadata": {},
     "output_type": "execute_result"
    }
   ],
   "source": [
    "# Check missing data (Missing data) column unit - MAINLY USED\n",
    "df.isnull().sum()"
   ]
  },
  {
   "cell_type": "code",
   "execution_count": 24,
   "metadata": {},
   "outputs": [
    {
     "data": {
      "text/plain": [
       "0       0\n",
       "1       0\n",
       "2       0\n",
       "3       0\n",
       "4       0\n",
       "       ..\n",
       "1377    0\n",
       "1378    0\n",
       "1379    0\n",
       "1380    0\n",
       "1381    0\n",
       "Length: 1382, dtype: int64"
      ]
     },
     "execution_count": 24,
     "metadata": {},
     "output_type": "execute_result"
    }
   ],
   "source": [
    "# Check missing data (Missing data) row by row\n",
    "df.isnull().sum(axis=1)"
   ]
  },
  {
   "cell_type": "markdown",
   "metadata": {},
   "source": [
    "### Handling column-level numerical operations and data types of data frames\n",
    "- Number of clicks (rounded, changed to one's digit)\n",
    "- Click rate\n",
    "- Average click cost (VAT included, KRW)"
   ]
  },
  {
   "cell_type": "markdown",
   "metadata": {},
   "source": [
    "- Number of clicks: An indicator showing the total number of clicks made\n",
    "- => Rounding processing, change to one's digit (because there should not be a decimal point)"
   ]
  },
  {
   "cell_type": "code",
   "execution_count": 40,
   "metadata": {},
   "outputs": [
    {
     "data": {
      "text/plain": [
       "0       8058.0\n",
       "1       1864.0\n",
       "2        814.0\n",
       "3        260.0\n",
       "4        271.0\n",
       "         ...  \n",
       "1374       0.0\n",
       "1375       0.0\n",
       "1376       0.0\n",
       "1377       0.0\n",
       "1378       0.0\n",
       "Name: 클릭수, Length: 1379, dtype: float64"
      ]
     },
     "execution_count": 40,
     "metadata": {},
     "output_type": "execute_result"
    }
   ],
   "source": [
    "# Apply round function to click count row\n",
    "clk = round(df['클릭수'],0)\n",
    "clk"
   ]
  },
  {
   "cell_type": "code",
   "execution_count": 42,
   "metadata": {},
   "outputs": [
    {
     "data": {
      "text/plain": [
       "0       8058\n",
       "1       1864\n",
       "2        814\n",
       "3        260\n",
       "4        271\n",
       "        ... \n",
       "1374       0\n",
       "1375       0\n",
       "1376       0\n",
       "1377       0\n",
       "1378       0\n",
       "Name: 클릭수, Length: 1379, dtype: int32"
      ]
     },
     "execution_count": 42,
     "metadata": {},
     "output_type": "execute_result"
    }
   ],
   "source": [
    "# Remove decimal point = float (float) => integer (int)\n",
    "clk.astype(int)"
   ]
  },
  {
   "cell_type": "code",
   "execution_count": 44,
   "metadata": {},
   "outputs": [
    {
     "data": {
      "text/html": [
       "<div>\n",
       "<style scoped>\n",
       "    .dataframe tbody tr th:only-of-type {\n",
       "        vertical-align: middle;\n",
       "    }\n",
       "\n",
       "    .dataframe tbody tr th {\n",
       "        vertical-align: top;\n",
       "    }\n",
       "\n",
       "    .dataframe thead th {\n",
       "        text-align: right;\n",
       "    }\n",
       "</style>\n",
       "<table border=\"1\" class=\"dataframe\">\n",
       "  <thead>\n",
       "    <tr style=\"text-align: right;\">\n",
       "      <th></th>\n",
       "      <th>광고그룹</th>\n",
       "      <th>키워드</th>\n",
       "      <th>노출수</th>\n",
       "      <th>클릭수</th>\n",
       "      <th>클릭률(%)</th>\n",
       "      <th>평균클릭비용(VAT포함,원)</th>\n",
       "      <th>총비용(VAT포함,원)</th>\n",
       "    </tr>\n",
       "  </thead>\n",
       "  <tbody>\n",
       "    <tr>\n",
       "      <th>0</th>\n",
       "      <td>올인원 패키지 : 업무자동화_VBA</td>\n",
       "      <td>-</td>\n",
       "      <td>767491</td>\n",
       "      <td>8058</td>\n",
       "      <td>1.049915</td>\n",
       "      <td>295.974808</td>\n",
       "      <td>2384965</td>\n",
       "    </tr>\n",
       "    <tr>\n",
       "      <th>1</th>\n",
       "      <td>올인원 패키지 : 데이터 분석 입문 온라인_파콘</td>\n",
       "      <td>-</td>\n",
       "      <td>694106</td>\n",
       "      <td>1864</td>\n",
       "      <td>0.268489</td>\n",
       "      <td>630.593475</td>\n",
       "      <td>1175174</td>\n",
       "    </tr>\n",
       "    <tr>\n",
       "      <th>2</th>\n",
       "      <td>3. html</td>\n",
       "      <td>HTML</td>\n",
       "      <td>9626374</td>\n",
       "      <td>814</td>\n",
       "      <td>0.008452</td>\n",
       "      <td>1408.435349</td>\n",
       "      <td>1145903</td>\n",
       "    </tr>\n",
       "    <tr>\n",
       "      <th>3</th>\n",
       "      <td>6. 파이썬</td>\n",
       "      <td>파이썬</td>\n",
       "      <td>384522</td>\n",
       "      <td>260</td>\n",
       "      <td>0.067720</td>\n",
       "      <td>3705.360983</td>\n",
       "      <td>964876</td>\n",
       "    </tr>\n",
       "    <tr>\n",
       "      <th>4</th>\n",
       "      <td>1. 코딩</td>\n",
       "      <td>코딩</td>\n",
       "      <td>562162</td>\n",
       "      <td>271</td>\n",
       "      <td>0.048242</td>\n",
       "      <td>3243.215339</td>\n",
       "      <td>879560</td>\n",
       "    </tr>\n",
       "  </tbody>\n",
       "</table>\n",
       "</div>"
      ],
      "text/plain": [
       "                         광고그룹   키워드      노출수   클릭수    클릭률(%)  평균클릭비용(VAT포함,원)  \\\n",
       "0         올인원 패키지 : 업무자동화_VBA     -   767491  8058  1.049915       295.974808   \n",
       "1  올인원 패키지 : 데이터 분석 입문 온라인_파콘     -   694106  1864  0.268489       630.593475   \n",
       "2                     3. html  HTML  9626374   814  0.008452      1408.435349   \n",
       "3                      6. 파이썬   파이썬   384522   260  0.067720      3705.360983   \n",
       "4                       1. 코딩    코딩   562162   271  0.048242      3243.215339   \n",
       "\n",
       "   총비용(VAT포함,원)  \n",
       "0       2384965  \n",
       "1       1175174  \n",
       "2       1145903  \n",
       "3        964876  \n",
       "4        879560  "
      ]
     },
     "execution_count": 44,
     "metadata": {},
     "output_type": "execute_result"
    }
   ],
   "source": [
    "# Replace existing column data\n",
    "df['클릭수'] = clk.astype(int)\n",
    "\n",
    "# head\n",
    "df.head()"
   ]
  },
  {
   "cell_type": "markdown",
   "metadata": {},
   "source": [
    "- Click through rate: CTR = number of clicks / number of impressions * 100\n",
    "- => The number of clicks has changed, so the existing click-through rate (%) column data needs to be changed."
   ]
  },
  {
   "cell_type": "code",
   "execution_count": 45,
   "metadata": {},
   "outputs": [
    {
     "data": {
      "text/html": [
       "<div>\n",
       "<style scoped>\n",
       "    .dataframe tbody tr th:only-of-type {\n",
       "        vertical-align: middle;\n",
       "    }\n",
       "\n",
       "    .dataframe tbody tr th {\n",
       "        vertical-align: top;\n",
       "    }\n",
       "\n",
       "    .dataframe thead th {\n",
       "        text-align: right;\n",
       "    }\n",
       "</style>\n",
       "<table border=\"1\" class=\"dataframe\">\n",
       "  <thead>\n",
       "    <tr style=\"text-align: right;\">\n",
       "      <th></th>\n",
       "      <th>광고그룹</th>\n",
       "      <th>키워드</th>\n",
       "      <th>노출수</th>\n",
       "      <th>클릭수</th>\n",
       "      <th>클릭률(%)</th>\n",
       "      <th>평균클릭비용(VAT포함,원)</th>\n",
       "      <th>총비용(VAT포함,원)</th>\n",
       "    </tr>\n",
       "  </thead>\n",
       "  <tbody>\n",
       "    <tr>\n",
       "      <th>0</th>\n",
       "      <td>올인원 패키지 : 업무자동화_VBA</td>\n",
       "      <td>-</td>\n",
       "      <td>767491</td>\n",
       "      <td>8058</td>\n",
       "      <td>1.049915</td>\n",
       "      <td>295.974808</td>\n",
       "      <td>2384965</td>\n",
       "    </tr>\n",
       "    <tr>\n",
       "      <th>1</th>\n",
       "      <td>올인원 패키지 : 데이터 분석 입문 온라인_파콘</td>\n",
       "      <td>-</td>\n",
       "      <td>694106</td>\n",
       "      <td>1864</td>\n",
       "      <td>0.268489</td>\n",
       "      <td>630.593475</td>\n",
       "      <td>1175174</td>\n",
       "    </tr>\n",
       "    <tr>\n",
       "      <th>2</th>\n",
       "      <td>3. html</td>\n",
       "      <td>HTML</td>\n",
       "      <td>9626374</td>\n",
       "      <td>814</td>\n",
       "      <td>0.008452</td>\n",
       "      <td>1408.435349</td>\n",
       "      <td>1145903</td>\n",
       "    </tr>\n",
       "    <tr>\n",
       "      <th>3</th>\n",
       "      <td>6. 파이썬</td>\n",
       "      <td>파이썬</td>\n",
       "      <td>384522</td>\n",
       "      <td>260</td>\n",
       "      <td>0.067720</td>\n",
       "      <td>3705.360983</td>\n",
       "      <td>964876</td>\n",
       "    </tr>\n",
       "    <tr>\n",
       "      <th>4</th>\n",
       "      <td>1. 코딩</td>\n",
       "      <td>코딩</td>\n",
       "      <td>562162</td>\n",
       "      <td>271</td>\n",
       "      <td>0.048242</td>\n",
       "      <td>3243.215339</td>\n",
       "      <td>879560</td>\n",
       "    </tr>\n",
       "  </tbody>\n",
       "</table>\n",
       "</div>"
      ],
      "text/plain": [
       "                         광고그룹   키워드      노출수   클릭수    클릭률(%)  평균클릭비용(VAT포함,원)  \\\n",
       "0         올인원 패키지 : 업무자동화_VBA     -   767491  8058  1.049915       295.974808   \n",
       "1  올인원 패키지 : 데이터 분석 입문 온라인_파콘     -   694106  1864  0.268489       630.593475   \n",
       "2                     3. html  HTML  9626374   814  0.008452      1408.435349   \n",
       "3                      6. 파이썬   파이썬   384522   260  0.067720      3705.360983   \n",
       "4                       1. 코딩    코딩   562162   271  0.048242      3243.215339   \n",
       "\n",
       "   총비용(VAT포함,원)  \n",
       "0       2384965  \n",
       "1       1175174  \n",
       "2       1145903  \n",
       "3        964876  \n",
       "4        879560  "
      ]
     },
     "execution_count": 45,
     "metadata": {},
     "output_type": "execute_result"
    }
   ],
   "source": [
    "# Columns of a data frame can perform numerical operations on each other\n",
    "df['클릭수']/df['노출수']*100\n",
    "\n",
    "# head\n",
    "df.head()"
   ]
  },
  {
   "cell_type": "code",
   "execution_count": 46,
   "metadata": {},
   "outputs": [
    {
     "data": {
      "text/html": [
       "<div>\n",
       "<style scoped>\n",
       "    .dataframe tbody tr th:only-of-type {\n",
       "        vertical-align: middle;\n",
       "    }\n",
       "\n",
       "    .dataframe tbody tr th {\n",
       "        vertical-align: top;\n",
       "    }\n",
       "\n",
       "    .dataframe thead th {\n",
       "        text-align: right;\n",
       "    }\n",
       "</style>\n",
       "<table border=\"1\" class=\"dataframe\">\n",
       "  <thead>\n",
       "    <tr style=\"text-align: right;\">\n",
       "      <th></th>\n",
       "      <th>광고그룹</th>\n",
       "      <th>키워드</th>\n",
       "      <th>노출수</th>\n",
       "      <th>클릭수</th>\n",
       "      <th>클릭률(%)</th>\n",
       "      <th>평균클릭비용(VAT포함,원)</th>\n",
       "      <th>총비용(VAT포함,원)</th>\n",
       "    </tr>\n",
       "  </thead>\n",
       "  <tbody>\n",
       "    <tr>\n",
       "      <th>0</th>\n",
       "      <td>올인원 패키지 : 업무자동화_VBA</td>\n",
       "      <td>-</td>\n",
       "      <td>767491</td>\n",
       "      <td>8058</td>\n",
       "      <td>1.049915</td>\n",
       "      <td>295.974808</td>\n",
       "      <td>2384965</td>\n",
       "    </tr>\n",
       "    <tr>\n",
       "      <th>1</th>\n",
       "      <td>올인원 패키지 : 데이터 분석 입문 온라인_파콘</td>\n",
       "      <td>-</td>\n",
       "      <td>694106</td>\n",
       "      <td>1864</td>\n",
       "      <td>0.268547</td>\n",
       "      <td>630.593475</td>\n",
       "      <td>1175174</td>\n",
       "    </tr>\n",
       "    <tr>\n",
       "      <th>2</th>\n",
       "      <td>3. html</td>\n",
       "      <td>HTML</td>\n",
       "      <td>9626374</td>\n",
       "      <td>814</td>\n",
       "      <td>0.008456</td>\n",
       "      <td>1408.435349</td>\n",
       "      <td>1145903</td>\n",
       "    </tr>\n",
       "    <tr>\n",
       "      <th>3</th>\n",
       "      <td>6. 파이썬</td>\n",
       "      <td>파이썬</td>\n",
       "      <td>384522</td>\n",
       "      <td>260</td>\n",
       "      <td>0.067616</td>\n",
       "      <td>3705.360983</td>\n",
       "      <td>964876</td>\n",
       "    </tr>\n",
       "    <tr>\n",
       "      <th>4</th>\n",
       "      <td>1. 코딩</td>\n",
       "      <td>코딩</td>\n",
       "      <td>562162</td>\n",
       "      <td>271</td>\n",
       "      <td>0.048207</td>\n",
       "      <td>3243.215339</td>\n",
       "      <td>879560</td>\n",
       "    </tr>\n",
       "  </tbody>\n",
       "</table>\n",
       "</div>"
      ],
      "text/plain": [
       "                         광고그룹   키워드      노출수   클릭수    클릭률(%)  평균클릭비용(VAT포함,원)  \\\n",
       "0         올인원 패키지 : 업무자동화_VBA     -   767491  8058  1.049915       295.974808   \n",
       "1  올인원 패키지 : 데이터 분석 입문 온라인_파콘     -   694106  1864  0.268547       630.593475   \n",
       "2                     3. html  HTML  9626374   814  0.008456      1408.435349   \n",
       "3                      6. 파이썬   파이썬   384522   260  0.067616      3705.360983   \n",
       "4                       1. 코딩    코딩   562162   271  0.048207      3243.215339   \n",
       "\n",
       "   총비용(VAT포함,원)  \n",
       "0       2384965  \n",
       "1       1175174  \n",
       "2       1145903  \n",
       "3        964876  \n",
       "4        879560  "
      ]
     },
     "execution_count": 46,
     "metadata": {},
     "output_type": "execute_result"
    }
   ],
   "source": [
    "df['클릭률(%)'] = df['클릭수']/df['노출수']*100\n",
    "\n",
    "# head\n",
    "df.head()"
   ]
  },
  {
   "cell_type": "markdown",
   "metadata": {},
   "source": [
    "- Average click cost: indicated in the column name in won units\n",
    "    - => Rounding processing, change to one's digit"
   ]
  },
  {
   "cell_type": "code",
   "execution_count": 47,
   "metadata": {},
   "outputs": [
    {
     "data": {
      "text/html": [
       "<div>\n",
       "<style scoped>\n",
       "    .dataframe tbody tr th:only-of-type {\n",
       "        vertical-align: middle;\n",
       "    }\n",
       "\n",
       "    .dataframe tbody tr th {\n",
       "        vertical-align: top;\n",
       "    }\n",
       "\n",
       "    .dataframe thead th {\n",
       "        text-align: right;\n",
       "    }\n",
       "</style>\n",
       "<table border=\"1\" class=\"dataframe\">\n",
       "  <thead>\n",
       "    <tr style=\"text-align: right;\">\n",
       "      <th></th>\n",
       "      <th>광고그룹</th>\n",
       "      <th>키워드</th>\n",
       "      <th>노출수</th>\n",
       "      <th>클릭수</th>\n",
       "      <th>클릭률(%)</th>\n",
       "      <th>평균클릭비용(VAT포함,원)</th>\n",
       "      <th>총비용(VAT포함,원)</th>\n",
       "    </tr>\n",
       "  </thead>\n",
       "  <tbody>\n",
       "    <tr>\n",
       "      <th>0</th>\n",
       "      <td>올인원 패키지 : 업무자동화_VBA</td>\n",
       "      <td>-</td>\n",
       "      <td>767491</td>\n",
       "      <td>8058</td>\n",
       "      <td>1.049915</td>\n",
       "      <td>296</td>\n",
       "      <td>2384965</td>\n",
       "    </tr>\n",
       "    <tr>\n",
       "      <th>1</th>\n",
       "      <td>올인원 패키지 : 데이터 분석 입문 온라인_파콘</td>\n",
       "      <td>-</td>\n",
       "      <td>694106</td>\n",
       "      <td>1864</td>\n",
       "      <td>0.268547</td>\n",
       "      <td>631</td>\n",
       "      <td>1175174</td>\n",
       "    </tr>\n",
       "    <tr>\n",
       "      <th>2</th>\n",
       "      <td>3. html</td>\n",
       "      <td>HTML</td>\n",
       "      <td>9626374</td>\n",
       "      <td>814</td>\n",
       "      <td>0.008456</td>\n",
       "      <td>1408</td>\n",
       "      <td>1145903</td>\n",
       "    </tr>\n",
       "    <tr>\n",
       "      <th>3</th>\n",
       "      <td>6. 파이썬</td>\n",
       "      <td>파이썬</td>\n",
       "      <td>384522</td>\n",
       "      <td>260</td>\n",
       "      <td>0.067616</td>\n",
       "      <td>3705</td>\n",
       "      <td>964876</td>\n",
       "    </tr>\n",
       "    <tr>\n",
       "      <th>4</th>\n",
       "      <td>1. 코딩</td>\n",
       "      <td>코딩</td>\n",
       "      <td>562162</td>\n",
       "      <td>271</td>\n",
       "      <td>0.048207</td>\n",
       "      <td>3243</td>\n",
       "      <td>879560</td>\n",
       "    </tr>\n",
       "  </tbody>\n",
       "</table>\n",
       "</div>"
      ],
      "text/plain": [
       "                         광고그룹   키워드      노출수   클릭수    클릭률(%)  평균클릭비용(VAT포함,원)  \\\n",
       "0         올인원 패키지 : 업무자동화_VBA     -   767491  8058  1.049915              296   \n",
       "1  올인원 패키지 : 데이터 분석 입문 온라인_파콘     -   694106  1864  0.268547              631   \n",
       "2                     3. html  HTML  9626374   814  0.008456             1408   \n",
       "3                      6. 파이썬   파이썬   384522   260  0.067616             3705   \n",
       "4                       1. 코딩    코딩   562162   271  0.048207             3243   \n",
       "\n",
       "   총비용(VAT포함,원)  \n",
       "0       2384965  \n",
       "1       1175174  \n",
       "2       1145903  \n",
       "3        964876  \n",
       "4        879560  "
      ]
     },
     "execution_count": 47,
     "metadata": {},
     "output_type": "execute_result"
    }
   ],
   "source": [
    "# Create cpc variable\n",
    "cpc = round(df['평균클릭비용(VAT포함,원)'],0)\n",
    "df['평균클릭비용(VAT포함,원)'] = cpc.astype(int)\n",
    "\n",
    "# head\n",
    "df.head()"
   ]
  },
  {
   "cell_type": "code",
   "execution_count": 48,
   "metadata": {},
   "outputs": [
    {
     "data": {
      "text/plain": [
       "array(['올인원 패키지 : 업무자동화_VBA', '올인원 패키지 : 데이터 분석 입문 온라인_파콘', '3. html',\n",
       "       '6. 파이썬', '1. 코딩', '2. C언어 일반', '프로그래밍 전체_파워컨텐츠_블록체인(삭제)',\n",
       "       'AOP 전체_중복키워드_디자인', '디지털 마케팅 스쿨 13기_대표키워드', '인스타그램 마케팅',\n",
       "       '블록체인 신사업 시작하기', 'AOP 전체_중복키워드_비지니스', '올인원 패키지 : 업무자동화_2. 파이썬',\n",
       "       '올인원 패키지 : 1인 쇼핑몰 시작하기_00.창업_PC', '올인원 패키지 : 영상 제작/편집_6.프리미어프로',\n",
       "       '1. 모바일앱개발_교육', '올인원 패키지 : UX/UI 디자인 입문_연관검색어',\n",
       "       '올인원 패키지 : 데이터 분석 입문(파컨)', '올인원 패키지 : 디자인 툴_파워컨텐츠_포토샵',\n",
       "       'JavaScript BOOT CAMP', '1. 일반_PC', 'ㅍAOP 전체_중복키워드_디자인(삭제)',\n",
       "       'AOP 전체_중복키워드_공통', 'AOP 전체_중복키워드_프로그래밍', '003.퍼포먼스 마케팅',\n",
       "       '2. 프로그래밍', '마케팅 유치원', '올인원 패키지 : 업무자동화_1. 자동화', '올인원 패키지 : 브랜딩',\n",
       "       'ㅍ올인원 패키지 : 브랜딩', '올인원 패키지 : 콘텐츠 마케팅_카피라이팅',\n",
       "       'AOP 전체_중복키워드_데이터사이언스', '8. 시스템 프로그래밍',\n",
       "       'ㅍ올인원 패키지 : UX/UI 디자인 입문_연관검색어(삭제)', '올인원 패키지 : 프로그래밍 첫걸음 시작하기',\n",
       "       '페이스북&인스타그램 마케팅 실전', 'Python & Django를 활용한 웹 서비스_개발자', '5. 자료구조',\n",
       "       'fin_camp_auction_6', '올인원 패키지 : 1인 쇼핑몰_00.창업_MO', '타이포그래피와 편집디자인',\n",
       "       '올인원 패키지 : 디지털 마케팅_1. 디지털 마케팅', 'AOP 전체_중복키워드_마케팅',\n",
       "       '마케터를 위한 데이터 부트캠프', '코딩으로 여행하는 블록체인 서비스',\n",
       "       '올인원 패키지 : 1인 쇼핑몰 시작하기_02.쇼핑몰구축', '상업용 부동산 실무 입문 4기',\n",
       "       '포토샵 유치원_일러스트레이터 유치원', '고객의 마음을 읽는 구글애널리틱스',\n",
       "       '왕초보의 파이썬 웹 프로그래밍 CAMP', '올인원 패키지 : 콘텐츠 마케팅_영상바이럴', '마케팅KPI수립',\n",
       "       '프로그래밍 유치원', 'ㅍAOP 전체_중복키워드_프로그래밍(삭제)', '#000_마케팅 전체_main',\n",
       "       'SEO/SEM 전략', '올인원 패키지 : 투자_파워콘텐츠', 'ㅍAOP 전체_중복키워드_공통(삭제)',\n",
       "       '올인원 패키지 : 콘텐츠 마케팅_대표키워드', '올인원 패키지 : 파이썬 웹 개발_2.프론트엔드기초',\n",
       "       '올인원 패키지 : 업무자동화_4. VBA', '올인원 패키지 : 금융공학/퀀트_01.파이썬기본&자동화',\n",
       "       'TensorFlow로 시작하는 딥러닝 입문', '올인원 패키지 : 업무자동화_3. 엑셀', '002.마케팅 입문',\n",
       "       '올인원 패키지 : 그로스해킹_5.마케팅 분석', '1. 데이터분석입문_일반', 'data_camp_rmp_8',\n",
       "       'ㅍAOP 전체_중복키워드_마케팅(삭제)', '올인원 패키지 : 게임 개발', '마케터를 위한 데이터 해석 실전',\n",
       "       '마케팅 전체', '1. 경영 일반', 'Vue로 구현하는 PWA CAMP', '1. 전체',\n",
       "       '001.데이터분석/ 통계', '5. javascript', 'ㅍ1. 전체',\n",
       "       '올인원 패키지 : 1인 쇼핑몰 시작하기_05.상품촬영', '1. 컴퓨터공학 일반',\n",
       "       '올인원 패키지 : 파이썬 웹 개발_3.FLASK기초', '올인원 패키지 : 디지털 마케팅_2. 페이스북 광고',\n",
       "       '올인원 패키지 : 영상 제작/편집_2.영상제작이론', '대기업을 이기는 브랜딩 전략',\n",
       "       '올인원 패키지 : 영상 제작/편집_9.유튜브/유튜버', '올인원 패키지 : 금융공학/퀀_03.금융공학',\n",
       "       '올인원 패키지 : 리더를 위한 HR/인재경영_1.인재', '내 아이템에 맞는 영상 콘텐츠 기획/제작',\n",
       "       'ㅍAOP 전체_중복키워드_데이터사이언스(삭제)', '올인원 패키지 : 그로스해킹_1.용어',\n",
       "       '1_벤처캐피탈에 대한 이해(벤처캐피탈)', '1. 일반_MO', '002.R',\n",
       "       'PYTHON & DJANGO를 활용한  웹 서비스 개발', '올인원 패키지 : 디지털 마케팅_3. 구글 광고',\n",
       "       '올인원 패키지 : 1인 쇼핑몰 시작하기_06.해외쇼핑몰', 'LaTeX를 활용한 효율적 논문작성 Workshop',\n",
       "       '인디자인 유치원', 'ㅍAOP 전체_중복키워드_비지니스(삭제)', '딥러닝으로 배우는 병렬처리 CAMP',\n",
       "       '올인원 패키지 : 영상 제작/편집_3.촬영 기법/장비1', '올인원 패키지 : FAST MBA_파워컨텐츠_아마존',\n",
       "       '7. 운영체제', '실전 웹/앱 프로젝트 기획', '2_투자유치를 위한 사업계획서 작성(투자유치)',\n",
       "       '올인원 패키지 : 영상 제작/편집_10.패캠강의', '올인원 패키지 : 1인 쇼핑몰 시작하기_01.플랫폼',\n",
       "       '다빈치리졸브와 컬러그레이딩', '파이썬을 통한 금융 데이터 수집과 분석 자동화 16기',\n",
       "       '실전 웹 UX/UI 디자인', '올인원 패키지 : 영상 제작/편집_7.에프터이펙트', '파이썬 텍스트 마이닝',\n",
       "       'data_camp_pcda_3', '5_초기 스타트업 실제 투자사례(창업자)', '1. 모바일앱개발_세부',\n",
       "       'Python & Django를 활용한 웹 서비스_일반', '005.머신러닝',\n",
       "       '올인원 패키지 : 영상 제작/편집_5.일러스트', '구글 광고', '올인원 패키지 : 영상 제작/편집_1.크리에이터',\n",
       "       '딥러닝으로 배우는 병렬처리 CAMP_구버전', '건강한 조직을 만드는 HR 전략 WORKSHOP',\n",
       "       '6.  컴퓨터구조', '003.파이썬', 'fin_camp_modeling_15', 'Apache Spark',\n",
       "       '올인원 패키지 : 금융공학/퀀_02.R활용금융데이터분석', '모바일 앱 UX/UI 디자인',\n",
       "       '001.BASIC DESIGN', '올인원 패키지 : 영상 제작/편집_8.파이널컷 프로',\n",
       "       '1. 앱웹서비스기획_일반', '프로그래밍 전체', '리눅스 인프라',\n",
       "       'OpenCV와 함께하는 컴퓨터 비전 프로그래밍', '서비스 기획 스쿨 5기_구글 연관검색어',\n",
       "       '올인원 패키지 : 금융공학/퀀트_00.일반', '올인원 패키지 : 리더를 위한 HR/인재경영_2.리더십',\n",
       "       '4_벤처캐피탈 투자계약(벤처 투자)', 'fin_camp_rdev_4', '파이낸스 전체',\n",
       "       'typescript 실전 workshop', '비즈니스 전체', '4. css', '영상 콘텐츠 디자인 유치원',\n",
       "       '올인원 패키지 : 디지털 마케팅_5. 태그매니저', '007.빅데이터',\n",
       "       '모바일 앱 GUI 포트폴리오 디자인 LAB', '올인원 패키지 : 디지털 마케팅_8. 검색 마케팅',\n",
       "       'Javascript 정복 프로젝트', '올인원 패키지 : 콘텐츠 마케팅_콘텐츠 제작',\n",
       "       '올인원 패키지 : 디지털 마케팅_트위터광고', '올인원 패키지 : 1인 쇼핑몰 시작하기_04.호스팅사',\n",
       "       '쉽고 재미있는 재무제표 분석 17기', '1_2 대표 경쟁', 'Java 웹 프로그래밍 마스터 4기 : 3개월',\n",
       "       '올인원 패키지 : 그로스해킹_2.그로스해킹', '크리에이티브 전체', '002.UX/UI',\n",
       "       'fin_camp_feasibilitystudy_18', 'Vue.js 정복 CAMP', '4. 웹의 동작',\n",
       "       '머신러닝을 위한 선형대수학', '6_스타트업 M&A에 대한 단상(스타트업)', 'iOS 개발 스쿨 9기_기존 키워드',\n",
       "       '006.딥러닝', 'UX 디자인 실전', '디지털 마케팅', '올인원 패키지 : 리더를 위한 HR/인재경영_5.HR',\n",
       "       '올인원 패키지 : 영상 제작/편집_4.포토샵', '데이터 사이언스 전체',\n",
       "       '올인원 패키지 : 파이썬 웹 개발_4.Django', '올인원 패키지 : 리더를 위한 HR/인재경영_3.온보딩',\n",
       "       '3. 파이썬', '컴퓨터공학으로 풀어낸 블록체인 코어 CAMP', '7_How to 벤처캐피탈',\n",
       "       '3_기업가치평가 방법론', '자율주행 연구를 위한 ROS·SLAM Workshop',\n",
       "       '프론트엔드 개발 스쿨 12기_기존 키워드', '개발자와 협업하는 디자이너를 위한 실무 역량 강화',\n",
       "       '올인원 패키지 : 1인 쇼핑몰 시작하기_03.결제시스템', '웹 프로그래밍 스쿨 10기_기존 키워드',\n",
       "       '올인원 패키지 : 디지털 마케팅_인스타광고', '다함께 DDD 프로젝트', 'fin_camp_rfs_9',\n",
       "       'Hyperledger Fabric 프로젝트 CAMP', 'fin_camp_business_4'],\n",
       "      dtype=object)"
      ]
     },
     "execution_count": 48,
     "metadata": {},
     "output_type": "execute_result"
    }
   ],
   "source": [
    "# unique() - Unique values ​​of a column (series)\n",
    "df['광고그룹'].unique()"
   ]
  },
  {
   "cell_type": "code",
   "execution_count": 49,
   "metadata": {},
   "outputs": [
    {
     "data": {
      "text/plain": [
       "1112"
      ]
     },
     "execution_count": 49,
     "metadata": {},
     "output_type": "execute_result"
    }
   ],
   "source": [
    "len(df['키워드'].unique())"
   ]
  },
  {
   "cell_type": "code",
   "execution_count": 50,
   "metadata": {},
   "outputs": [
    {
     "data": {
      "text/plain": [
       "올인원 패키지 : 업무자동화_3. 엑셀            93\n",
       "AOP 전체_중복키워드_디자인                 57\n",
       "#000_마케팅 전체_main                 48\n",
       "ㅍAOP 전체_중복키워드_디자인(삭제)            45\n",
       "1. 전체                            26\n",
       "                                 ..\n",
       "올인원 패키지 : 데이터 분석 입문(파컨)           1\n",
       "웹 프로그래밍 스쿨 10기_기존 키워드             1\n",
       "올인원 패키지 : 1인 쇼핑몰 시작하기_04.호스팅사     1\n",
       "쉽고 재미있는 재무제표 분석 17기               1\n",
       "올인원 패키지 : 영상 제작/편집_7.에프터이펙트       1\n",
       "Name: 광고그룹, Length: 186, dtype: int64"
      ]
     },
     "execution_count": 50,
     "metadata": {},
     "output_type": "execute_result"
    }
   ],
   "source": [
    "# value_counts() -  Frequency of unique values ​​in a column\n",
    "df['광고그룹'].value_counts()"
   ]
  },
  {
   "cell_type": "code",
   "execution_count": 51,
   "metadata": {},
   "outputs": [
    {
     "data": {
      "text/plain": [
       "1055       1001\n",
       "443        1003\n",
       "595        1005\n",
       "981        1006\n",
       "440        1007\n",
       "         ...   \n",
       "46      1021846\n",
       "11      1470452\n",
       "7       1887822\n",
       "171     3095998\n",
       "2       9626374\n",
       "Name: 노출수, Length: 1379, dtype: int64"
      ]
     },
     "execution_count": 51,
     "metadata": {},
     "output_type": "execute_result"
    }
   ],
   "source": [
    "# sort_values() - sort (defualt: ascending)\n",
    "# Sort by number of impressions\n",
    "df['노출수'].sort_values()"
   ]
  },
  {
   "cell_type": "code",
   "execution_count": 52,
   "metadata": {},
   "outputs": [
    {
     "data": {
      "text/plain": [
       "2       9626374\n",
       "171     3095998\n",
       "7       1887822\n",
       "11      1470452\n",
       "46      1021846\n",
       "         ...   \n",
       "440        1007\n",
       "981        1006\n",
       "595        1005\n",
       "443        1003\n",
       "1055       1001\n",
       "Name: 노출수, Length: 1379, dtype: int64"
      ]
     },
     "execution_count": 52,
     "metadata": {},
     "output_type": "execute_result"
    }
   ],
   "source": [
    "# sort_values() - sort in descending order (ascending=False)\n",
    "# Sort by number of impressions\n",
    "df['노출수'].sort_values(ascending=False)"
   ]
  },
  {
   "cell_type": "code",
   "execution_count": 53,
   "metadata": {},
   "outputs": [
    {
     "data": {
      "text/plain": [
       "0       8058\n",
       "6       2838\n",
       "81      2798\n",
       "24      2536\n",
       "12      2098\n",
       "        ... \n",
       "1160       0\n",
       "1159       0\n",
       "1158       0\n",
       "1157       0\n",
       "1378       0\n",
       "Name: 클릭수, Length: 1379, dtype: int32"
      ]
     },
     "execution_count": 53,
     "metadata": {},
     "output_type": "execute_result"
    }
   ],
   "source": [
    "# sort_values() - sort in descending order (ascending=False)\n",
    "# Sort by number of clicks\n",
    "df['클릭수'].sort_values(ascending=False)"
   ]
  },
  {
   "cell_type": "markdown",
   "metadata": {},
   "source": [
    "# Data exploration through visualization\n",
    "### - Learning Objectives:\n",
    "### 1. Data visualization by processing data from business\n",
    "### 2. Process and process data to visualize\n",
    "\n",
    "### Chapter1 - 03. matplotlib\n",
    "### series visualization"
   ]
  },
  {
   "cell_type": "code",
   "execution_count": 54,
   "metadata": {},
   "outputs": [
    {
     "data": {
      "text/plain": [
       "pandas.core.series.Series"
      ]
     },
     "execution_count": 54,
     "metadata": {},
     "output_type": "execute_result"
    }
   ],
   "source": [
    "# 노출수 column visualisation\n",
    "# dataframe visualisation <-> series visualisation\n",
    "# type function\n",
    "type(df['노출수'])"
   ]
  },
  {
   "cell_type": "code",
   "execution_count": 55,
   "metadata": {
    "scrolled": true
   },
   "outputs": [
    {
     "data": {
      "image/png": "[encoded data removed]",
      "text/plain": [
       "<Figure size 432x288 with 1 Axes>"
      ]
     },
     "metadata": {
      "needs_background": "light"
     },
     "output_type": "display_data"
    }
   ],
   "source": [
    "# plotting\n",
    "df['노출수'].plot()\n",
    "plt.show()"
   ]
  },
  {
   "cell_type": "markdown",
   "metadata": {},
   "source": [
    "### - Visualize data to see clear patterns\n",
    "1. as-is: Output based on index (the x-axis of the graph is the index of the series)\n",
    "2. to-be: Output based on sorted value\n",
    "        2-1. Sort the values ​​of the series in ascending numerical order.\n",
    "        2-2. Visualization after re-creating the index according to the type of sorted data"
   ]
  },
  {
   "cell_type": "code",
   "execution_count": 58,
   "metadata": {},
   "outputs": [
    {
     "data": {
      "text/plain": [
       "1055       1001\n",
       "443        1003\n",
       "595        1005\n",
       "981        1006\n",
       "440        1007\n",
       "         ...   \n",
       "46      1021846\n",
       "11      1470452\n",
       "7       1887822\n",
       "171     3095998\n",
       "2       9626374\n",
       "Name: 노출수, Length: 1379, dtype: int64"
      ]
     },
     "execution_count": 58,
     "metadata": {},
     "output_type": "execute_result"
    }
   ],
   "source": [
    "# 2-1. Sort the values ​​of the series in ascending numerical order.\n",
    "# Impressions column, sort_values()\n",
    "imp_sort = df['노출수'].sort_values()\n",
    "imp_sort"
   ]
  },
  {
   "cell_type": "code",
   "execution_count": 59,
   "metadata": {},
   "outputs": [
    {
     "data": {
      "text/html": [
       "<div>\n",
       "<style scoped>\n",
       "    .dataframe tbody tr th:only-of-type {\n",
       "        vertical-align: middle;\n",
       "    }\n",
       "\n",
       "    .dataframe tbody tr th {\n",
       "        vertical-align: top;\n",
       "    }\n",
       "\n",
       "    .dataframe thead th {\n",
       "        text-align: right;\n",
       "    }\n",
       "</style>\n",
       "<table border=\"1\" class=\"dataframe\">\n",
       "  <thead>\n",
       "    <tr style=\"text-align: right;\">\n",
       "      <th></th>\n",
       "      <th>index</th>\n",
       "      <th>노출수</th>\n",
       "    </tr>\n",
       "  </thead>\n",
       "  <tbody>\n",
       "    <tr>\n",
       "      <th>0</th>\n",
       "      <td>1055</td>\n",
       "      <td>1001</td>\n",
       "    </tr>\n",
       "    <tr>\n",
       "      <th>1</th>\n",
       "      <td>443</td>\n",
       "      <td>1003</td>\n",
       "    </tr>\n",
       "    <tr>\n",
       "      <th>2</th>\n",
       "      <td>595</td>\n",
       "      <td>1005</td>\n",
       "    </tr>\n",
       "    <tr>\n",
       "      <th>3</th>\n",
       "      <td>981</td>\n",
       "      <td>1006</td>\n",
       "    </tr>\n",
       "    <tr>\n",
       "      <th>4</th>\n",
       "      <td>440</td>\n",
       "      <td>1007</td>\n",
       "    </tr>\n",
       "    <tr>\n",
       "      <th>...</th>\n",
       "      <td>...</td>\n",
       "      <td>...</td>\n",
       "    </tr>\n",
       "    <tr>\n",
       "      <th>1374</th>\n",
       "      <td>46</td>\n",
       "      <td>1021846</td>\n",
       "    </tr>\n",
       "    <tr>\n",
       "      <th>1375</th>\n",
       "      <td>11</td>\n",
       "      <td>1470452</td>\n",
       "    </tr>\n",
       "    <tr>\n",
       "      <th>1376</th>\n",
       "      <td>7</td>\n",
       "      <td>1887822</td>\n",
       "    </tr>\n",
       "    <tr>\n",
       "      <th>1377</th>\n",
       "      <td>171</td>\n",
       "      <td>3095998</td>\n",
       "    </tr>\n",
       "    <tr>\n",
       "      <th>1378</th>\n",
       "      <td>2</td>\n",
       "      <td>9626374</td>\n",
       "    </tr>\n",
       "  </tbody>\n",
       "</table>\n",
       "<p>1379 rows × 2 columns</p>\n",
       "</div>"
      ],
      "text/plain": [
       "      index      노출수\n",
       "0      1055     1001\n",
       "1       443     1003\n",
       "2       595     1005\n",
       "3       981     1006\n",
       "4       440     1007\n",
       "...     ...      ...\n",
       "1374     46  1021846\n",
       "1375     11  1470452\n",
       "1376      7  1887822\n",
       "1377    171  3095998\n",
       "1378      2  9626374\n",
       "\n",
       "[1379 rows x 2 columns]"
      ]
     },
     "execution_count": 59,
     "metadata": {},
     "output_type": "execute_result"
    }
   ],
   "source": [
    "# reset_index() - Recreate index, return existing index to column of data frame\n",
    "imp_sort = imp_sort.reset_index()\n",
    "imp_sort"
   ]
  },
  {
   "cell_type": "code",
   "execution_count": 60,
   "metadata": {},
   "outputs": [
    {
     "data": {
      "text/html": [
       "<div>\n",
       "<style scoped>\n",
       "    .dataframe tbody tr th:only-of-type {\n",
       "        vertical-align: middle;\n",
       "    }\n",
       "\n",
       "    .dataframe tbody tr th {\n",
       "        vertical-align: top;\n",
       "    }\n",
       "\n",
       "    .dataframe thead th {\n",
       "        text-align: right;\n",
       "    }\n",
       "</style>\n",
       "<table border=\"1\" class=\"dataframe\">\n",
       "  <thead>\n",
       "    <tr style=\"text-align: right;\">\n",
       "      <th></th>\n",
       "      <th>index</th>\n",
       "      <th>노출수</th>\n",
       "    </tr>\n",
       "  </thead>\n",
       "  <tbody>\n",
       "    <tr>\n",
       "      <th>0</th>\n",
       "      <td>1055</td>\n",
       "      <td>1001</td>\n",
       "    </tr>\n",
       "    <tr>\n",
       "      <th>1</th>\n",
       "      <td>443</td>\n",
       "      <td>1003</td>\n",
       "    </tr>\n",
       "    <tr>\n",
       "      <th>2</th>\n",
       "      <td>595</td>\n",
       "      <td>1005</td>\n",
       "    </tr>\n",
       "    <tr>\n",
       "      <th>3</th>\n",
       "      <td>981</td>\n",
       "      <td>1006</td>\n",
       "    </tr>\n",
       "    <tr>\n",
       "      <th>4</th>\n",
       "      <td>440</td>\n",
       "      <td>1007</td>\n",
       "    </tr>\n",
       "    <tr>\n",
       "      <th>...</th>\n",
       "      <td>...</td>\n",
       "      <td>...</td>\n",
       "    </tr>\n",
       "    <tr>\n",
       "      <th>1374</th>\n",
       "      <td>46</td>\n",
       "      <td>1021846</td>\n",
       "    </tr>\n",
       "    <tr>\n",
       "      <th>1375</th>\n",
       "      <td>11</td>\n",
       "      <td>1470452</td>\n",
       "    </tr>\n",
       "    <tr>\n",
       "      <th>1376</th>\n",
       "      <td>7</td>\n",
       "      <td>1887822</td>\n",
       "    </tr>\n",
       "    <tr>\n",
       "      <th>1377</th>\n",
       "      <td>171</td>\n",
       "      <td>3095998</td>\n",
       "    </tr>\n",
       "    <tr>\n",
       "      <th>1378</th>\n",
       "      <td>2</td>\n",
       "      <td>9626374</td>\n",
       "    </tr>\n",
       "  </tbody>\n",
       "</table>\n",
       "<p>1379 rows × 2 columns</p>\n",
       "</div>"
      ],
      "text/plain": [
       "      index      노출수\n",
       "0      1055     1001\n",
       "1       443     1003\n",
       "2       595     1005\n",
       "3       981     1006\n",
       "4       440     1007\n",
       "...     ...      ...\n",
       "1374     46  1021846\n",
       "1375     11  1470452\n",
       "1376      7  1887822\n",
       "1377    171  3095998\n",
       "1378      2  9626374\n",
       "\n",
       "[1379 rows x 2 columns]"
      ]
     },
     "execution_count": 60,
     "metadata": {},
     "output_type": "execute_result"
    }
   ],
   "source": [
    "# drop('index to delete', axis=1) - delete (by column)\n",
    "# Does not affect original data (original appears when imp_sort prints)\n",
    "imp_sort.drop('index', axis=1)\n",
    "imp_sort"
   ]
  },
  {
   "cell_type": "code",
   "execution_count": 61,
   "metadata": {},
   "outputs": [
    {
     "data": {
      "text/html": [
       "<div>\n",
       "<style scoped>\n",
       "    .dataframe tbody tr th:only-of-type {\n",
       "        vertical-align: middle;\n",
       "    }\n",
       "\n",
       "    .dataframe tbody tr th {\n",
       "        vertical-align: top;\n",
       "    }\n",
       "\n",
       "    .dataframe thead th {\n",
       "        text-align: right;\n",
       "    }\n",
       "</style>\n",
       "<table border=\"1\" class=\"dataframe\">\n",
       "  <thead>\n",
       "    <tr style=\"text-align: right;\">\n",
       "      <th></th>\n",
       "      <th>노출수</th>\n",
       "    </tr>\n",
       "  </thead>\n",
       "  <tbody>\n",
       "    <tr>\n",
       "      <th>0</th>\n",
       "      <td>1001</td>\n",
       "    </tr>\n",
       "    <tr>\n",
       "      <th>1</th>\n",
       "      <td>1003</td>\n",
       "    </tr>\n",
       "    <tr>\n",
       "      <th>2</th>\n",
       "      <td>1005</td>\n",
       "    </tr>\n",
       "    <tr>\n",
       "      <th>3</th>\n",
       "      <td>1006</td>\n",
       "    </tr>\n",
       "    <tr>\n",
       "      <th>4</th>\n",
       "      <td>1007</td>\n",
       "    </tr>\n",
       "    <tr>\n",
       "      <th>...</th>\n",
       "      <td>...</td>\n",
       "    </tr>\n",
       "    <tr>\n",
       "      <th>1374</th>\n",
       "      <td>1021846</td>\n",
       "    </tr>\n",
       "    <tr>\n",
       "      <th>1375</th>\n",
       "      <td>1470452</td>\n",
       "    </tr>\n",
       "    <tr>\n",
       "      <th>1376</th>\n",
       "      <td>1887822</td>\n",
       "    </tr>\n",
       "    <tr>\n",
       "      <th>1377</th>\n",
       "      <td>3095998</td>\n",
       "    </tr>\n",
       "    <tr>\n",
       "      <th>1378</th>\n",
       "      <td>9626374</td>\n",
       "    </tr>\n",
       "  </tbody>\n",
       "</table>\n",
       "<p>1379 rows × 1 columns</p>\n",
       "</div>"
      ],
      "text/plain": [
       "          노출수\n",
       "0        1001\n",
       "1        1003\n",
       "2        1005\n",
       "3        1006\n",
       "4        1007\n",
       "...       ...\n",
       "1374  1021846\n",
       "1375  1470452\n",
       "1376  1887822\n",
       "1377  3095998\n",
       "1378  9626374\n",
       "\n",
       "[1379 rows x 1 columns]"
      ]
     },
     "execution_count": 61,
     "metadata": {},
     "output_type": "execute_result"
    }
   ],
   "source": [
    "# inplace=True (command to transform the original)\n",
    "imp_sort.drop('index', axis=1, inplace=True)\n",
    "imp_sort"
   ]
  },
  {
   "cell_type": "code",
   "execution_count": 62,
   "metadata": {},
   "outputs": [
    {
     "name": "stderr",
     "output_type": "stream",
     "text": [
      "C:\\Users\\kcw98\\anaconda3\\lib\\site-packages\\matplotlib\\backends\\backend_agg.py:238: RuntimeWarning: Glyph 45432 missing from current font.\n",
      "  font.set_text(s, 0.0, flags=flags)\n",
      "C:\\Users\\kcw98\\anaconda3\\lib\\site-packages\\matplotlib\\backends\\backend_agg.py:238: RuntimeWarning: Glyph 52636 missing from current font.\n",
      "  font.set_text(s, 0.0, flags=flags)\n",
      "C:\\Users\\kcw98\\anaconda3\\lib\\site-packages\\matplotlib\\backends\\backend_agg.py:238: RuntimeWarning: Glyph 49688 missing from current font.\n",
      "  font.set_text(s, 0.0, flags=flags)\n",
      "C:\\Users\\kcw98\\anaconda3\\lib\\site-packages\\matplotlib\\backends\\backend_agg.py:201: RuntimeWarning: Glyph 45432 missing from current font.\n",
      "  font.set_text(s, 0, flags=flags)\n",
      "C:\\Users\\kcw98\\anaconda3\\lib\\site-packages\\matplotlib\\backends\\backend_agg.py:201: RuntimeWarning: Glyph 52636 missing from current font.\n",
      "  font.set_text(s, 0, flags=flags)\n",
      "C:\\Users\\kcw98\\anaconda3\\lib\\site-packages\\matplotlib\\backends\\backend_agg.py:201: RuntimeWarning: Glyph 49688 missing from current font.\n",
      "  font.set_text(s, 0, flags=flags)\n"
     ]
    },
    {
     "data": {
      "image/png": "[encoded data removed]",
      "text/plain": [
       "<Figure size 432x288 with 1 Axes>"
      ]
     },
     "metadata": {
      "needs_background": "light"
     },
     "output_type": "display_data"
    }
   ],
   "source": [
    "# imp_sort plotting\n",
    "imp_sort.plot()\n",
    "plt.show()"
   ]
  },
  {
   "cell_type": "code",
   "execution_count": 63,
   "metadata": {},
   "outputs": [
    {
     "name": "stderr",
     "output_type": "stream",
     "text": [
      "C:\\Users\\kcw98\\anaconda3\\lib\\site-packages\\matplotlib\\backends\\backend_agg.py:238: RuntimeWarning: Glyph 53364 missing from current font.\n",
      "  font.set_text(s, 0.0, flags=flags)\n",
      "C:\\Users\\kcw98\\anaconda3\\lib\\site-packages\\matplotlib\\backends\\backend_agg.py:238: RuntimeWarning: Glyph 47533 missing from current font.\n",
      "  font.set_text(s, 0.0, flags=flags)\n",
      "C:\\Users\\kcw98\\anaconda3\\lib\\site-packages\\matplotlib\\backends\\backend_agg.py:238: RuntimeWarning: Glyph 49688 missing from current font.\n",
      "  font.set_text(s, 0.0, flags=flags)\n",
      "C:\\Users\\kcw98\\anaconda3\\lib\\site-packages\\matplotlib\\backends\\backend_agg.py:201: RuntimeWarning: Glyph 53364 missing from current font.\n",
      "  font.set_text(s, 0, flags=flags)\n",
      "C:\\Users\\kcw98\\anaconda3\\lib\\site-packages\\matplotlib\\backends\\backend_agg.py:201: RuntimeWarning: Glyph 47533 missing from current font.\n",
      "  font.set_text(s, 0, flags=flags)\n",
      "C:\\Users\\kcw98\\anaconda3\\lib\\site-packages\\matplotlib\\backends\\backend_agg.py:201: RuntimeWarning: Glyph 49688 missing from current font.\n",
      "  font.set_text(s, 0, flags=flags)\n"
     ]
    },
    {
     "data": {
      "image/png": "[encoded data removed]",
      "text/plain": [
       "<Figure size 432x288 with 1 Axes>"
      ]
     },
     "metadata": {
      "needs_background": "light"
     },
     "output_type": "display_data"
    }
   ],
   "source": [
    "# 클릭 수 column visualisation\n",
    "# sort_values(), reset_index(), drop('index', axis=1), plot - one-line coding (using parentheses)\n",
    "((((df['클릭수'].sort_values())).reset_index()).drop('index', axis=1)).plot()\n",
    "plt.show()"
   ]
  },
  {
   "cell_type": "code",
   "execution_count": 64,
   "metadata": {},
   "outputs": [
    {
     "name": "stderr",
     "output_type": "stream",
     "text": [
      "C:\\Users\\kcw98\\anaconda3\\lib\\site-packages\\matplotlib\\backends\\backend_agg.py:238: RuntimeWarning: Glyph 52509 missing from current font.\n",
      "  font.set_text(s, 0.0, flags=flags)\n",
      "C:\\Users\\kcw98\\anaconda3\\lib\\site-packages\\matplotlib\\backends\\backend_agg.py:238: RuntimeWarning: Glyph 48708 missing from current font.\n",
      "  font.set_text(s, 0.0, flags=flags)\n",
      "C:\\Users\\kcw98\\anaconda3\\lib\\site-packages\\matplotlib\\backends\\backend_agg.py:238: RuntimeWarning: Glyph 50857 missing from current font.\n",
      "  font.set_text(s, 0.0, flags=flags)\n",
      "C:\\Users\\kcw98\\anaconda3\\lib\\site-packages\\matplotlib\\backends\\backend_agg.py:238: RuntimeWarning: Glyph 54252 missing from current font.\n",
      "  font.set_text(s, 0.0, flags=flags)\n",
      "C:\\Users\\kcw98\\anaconda3\\lib\\site-packages\\matplotlib\\backends\\backend_agg.py:238: RuntimeWarning: Glyph 54632 missing from current font.\n",
      "  font.set_text(s, 0.0, flags=flags)\n",
      "C:\\Users\\kcw98\\anaconda3\\lib\\site-packages\\matplotlib\\backends\\backend_agg.py:238: RuntimeWarning: Glyph 50896 missing from current font.\n",
      "  font.set_text(s, 0.0, flags=flags)\n",
      "C:\\Users\\kcw98\\anaconda3\\lib\\site-packages\\matplotlib\\backends\\backend_agg.py:201: RuntimeWarning: Glyph 52509 missing from current font.\n",
      "  font.set_text(s, 0, flags=flags)\n",
      "C:\\Users\\kcw98\\anaconda3\\lib\\site-packages\\matplotlib\\backends\\backend_agg.py:201: RuntimeWarning: Glyph 48708 missing from current font.\n",
      "  font.set_text(s, 0, flags=flags)\n",
      "C:\\Users\\kcw98\\anaconda3\\lib\\site-packages\\matplotlib\\backends\\backend_agg.py:201: RuntimeWarning: Glyph 50857 missing from current font.\n",
      "  font.set_text(s, 0, flags=flags)\n",
      "C:\\Users\\kcw98\\anaconda3\\lib\\site-packages\\matplotlib\\backends\\backend_agg.py:201: RuntimeWarning: Glyph 54252 missing from current font.\n",
      "  font.set_text(s, 0, flags=flags)\n",
      "C:\\Users\\kcw98\\anaconda3\\lib\\site-packages\\matplotlib\\backends\\backend_agg.py:201: RuntimeWarning: Glyph 54632 missing from current font.\n",
      "  font.set_text(s, 0, flags=flags)\n",
      "C:\\Users\\kcw98\\anaconda3\\lib\\site-packages\\matplotlib\\backends\\backend_agg.py:201: RuntimeWarning: Glyph 50896 missing from current font.\n",
      "  font.set_text(s, 0, flags=flags)\n"
     ]
    },
    {
     "data": {
      "image/png": "[encoded data removed]",
      "text/plain": [
       "<Figure size 432x288 with 1 Axes>"
      ]
     },
     "metadata": {
      "needs_background": "light"
     },
     "output_type": "display_data"
    }
   ],
   "source": [
    "# Total cost visualization\n",
    "((((df['총비용(VAT포함,원)'].sort_values())).reset_index()).drop('index', axis=1)).plot()\n",
    "plt.show()"
   ]
  },
  {
   "cell_type": "markdown",
   "metadata": {},
   "source": [
    "# data analysis\n",
    "### - Objectives:\n",
    "        1. Data analysis using python & pandas"
   ]
  },
  {
   "cell_type": "markdown",
   "metadata": {},
   "source": [
    "## Extract key management keywords\n",
    "### - Extract the top 5% keywords based on number of impressions and clicks\n",
    "        1. Find the 95th percentile (quantile function used)\n",
    "        2. Extract impressions above the 95th percentile (top 5%)\n",
    "        3. Extract keywords corresponding to the top 5%"
   ]
  },
  {
   "cell_type": "code",
   "execution_count": 65,
   "metadata": {},
   "outputs": [],
   "source": [
    "# Assign the number of impressions to the column imp variable\n",
    "imp=df['노출수']"
   ]
  },
  {
   "cell_type": "code",
   "execution_count": 66,
   "metadata": {},
   "outputs": [
    {
     "data": {
      "text/plain": [
       "3801.0"
      ]
     },
     "execution_count": 66,
     "metadata": {},
     "output_type": "execute_result"
    }
   ],
   "source": [
    "# quantile - Quantile output (default: 2nd quartile (median))\n",
    "imp.quantile()"
   ]
  },
  {
   "cell_type": "code",
   "execution_count": 67,
   "metadata": {},
   "outputs": [
    {
     "data": {
      "text/plain": [
       "3801.0"
      ]
     },
     "execution_count": 67,
     "metadata": {},
     "output_type": "execute_result"
    }
   ],
   "source": [
    "# median - Median\n",
    "imp.median()"
   ]
  },
  {
   "cell_type": "code",
   "execution_count": 68,
   "metadata": {},
   "outputs": [
    {
     "name": "stdout",
     "output_type": "stream",
     "text": [
      "1001.0\n",
      "1001\n"
     ]
    }
   ],
   "source": [
    "# quantile(0) - Ninimum\n",
    "print(imp.quantile(0))\n",
    "print(imp.min())"
   ]
  },
  {
   "cell_type": "code",
   "execution_count": 69,
   "metadata": {},
   "outputs": [
    {
     "name": "stdout",
     "output_type": "stream",
     "text": [
      "9626374.0\n",
      "9626374\n"
     ]
    }
   ],
   "source": [
    "# quantile(1) - Maximum\n",
    "print(imp.quantile(1))\n",
    "print(imp.max())"
   ]
  },
  {
   "cell_type": "code",
   "execution_count": 70,
   "metadata": {},
   "outputs": [
    {
     "data": {
      "text/plain": [
       "82331.39999999998"
      ]
     },
     "execution_count": 70,
     "metadata": {},
     "output_type": "execute_result"
    }
   ],
   "source": [
    "# Find the 95th percentile\n",
    "imp.quantile(0.95)"
   ]
  },
  {
   "cell_type": "code",
   "execution_count": 73,
   "metadata": {},
   "outputs": [
    {
     "data": {
      "text/plain": [
       "2    9626374\n",
       "Name: 노출수, dtype: int64"
      ]
     },
     "execution_count": 73,
     "metadata": {},
     "output_type": "execute_result"
    }
   ],
   "source": [
    "# 2. Extract impressions above the 95th percentile (top 5%)\n",
    "# series[condition]\n",
    "imp = imp[imp>imp.quantile(0.95)]\n",
    "imp"
   ]
  },
  {
   "cell_type": "code",
   "execution_count": 74,
   "metadata": {},
   "outputs": [],
   "source": [
    "# 3. Extract keywords corresponding to the top 5%\n",
    "    # 1. as-is: Output based on index (the x-axis of the graph is the index of the series)\n",
    "    # 2. to-be: Output based on sorted values"
   ]
  },
  {
   "cell_type": "code",
   "execution_count": 75,
   "metadata": {},
   "outputs": [
    {
     "data": {
      "text/html": [
       "<div>\n",
       "<style scoped>\n",
       "    .dataframe tbody tr th:only-of-type {\n",
       "        vertical-align: middle;\n",
       "    }\n",
       "\n",
       "    .dataframe tbody tr th {\n",
       "        vertical-align: top;\n",
       "    }\n",
       "\n",
       "    .dataframe thead th {\n",
       "        text-align: right;\n",
       "    }\n",
       "</style>\n",
       "<table border=\"1\" class=\"dataframe\">\n",
       "  <thead>\n",
       "    <tr style=\"text-align: right;\">\n",
       "      <th></th>\n",
       "      <th>광고그룹</th>\n",
       "      <th>노출수</th>\n",
       "      <th>클릭수</th>\n",
       "      <th>클릭률(%)</th>\n",
       "      <th>평균클릭비용(VAT포함,원)</th>\n",
       "      <th>총비용(VAT포함,원)</th>\n",
       "    </tr>\n",
       "    <tr>\n",
       "      <th>키워드</th>\n",
       "      <th></th>\n",
       "      <th></th>\n",
       "      <th></th>\n",
       "      <th></th>\n",
       "      <th></th>\n",
       "      <th></th>\n",
       "    </tr>\n",
       "  </thead>\n",
       "  <tbody>\n",
       "    <tr>\n",
       "      <th>-</th>\n",
       "      <td>올인원 패키지 : 업무자동화_VBA</td>\n",
       "      <td>767491</td>\n",
       "      <td>8058</td>\n",
       "      <td>1.049915</td>\n",
       "      <td>296</td>\n",
       "      <td>2384965</td>\n",
       "    </tr>\n",
       "    <tr>\n",
       "      <th>-</th>\n",
       "      <td>올인원 패키지 : 데이터 분석 입문 온라인_파콘</td>\n",
       "      <td>694106</td>\n",
       "      <td>1864</td>\n",
       "      <td>0.268547</td>\n",
       "      <td>631</td>\n",
       "      <td>1175174</td>\n",
       "    </tr>\n",
       "    <tr>\n",
       "      <th>HTML</th>\n",
       "      <td>3. html</td>\n",
       "      <td>9626374</td>\n",
       "      <td>814</td>\n",
       "      <td>0.008456</td>\n",
       "      <td>1408</td>\n",
       "      <td>1145903</td>\n",
       "    </tr>\n",
       "    <tr>\n",
       "      <th>파이썬</th>\n",
       "      <td>6. 파이썬</td>\n",
       "      <td>384522</td>\n",
       "      <td>260</td>\n",
       "      <td>0.067616</td>\n",
       "      <td>3705</td>\n",
       "      <td>964876</td>\n",
       "    </tr>\n",
       "    <tr>\n",
       "      <th>코딩</th>\n",
       "      <td>1. 코딩</td>\n",
       "      <td>562162</td>\n",
       "      <td>271</td>\n",
       "      <td>0.048207</td>\n",
       "      <td>3243</td>\n",
       "      <td>879560</td>\n",
       "    </tr>\n",
       "    <tr>\n",
       "      <th>...</th>\n",
       "      <td>...</td>\n",
       "      <td>...</td>\n",
       "      <td>...</td>\n",
       "      <td>...</td>\n",
       "      <td>...</td>\n",
       "      <td>...</td>\n",
       "    </tr>\n",
       "    <tr>\n",
       "      <th>엑셀셀서식</th>\n",
       "      <td>올인원 패키지 : 업무자동화_3. 엑셀</td>\n",
       "      <td>24016</td>\n",
       "      <td>0</td>\n",
       "      <td>0.000000</td>\n",
       "      <td>0</td>\n",
       "      <td>0</td>\n",
       "    </tr>\n",
       "    <tr>\n",
       "      <th>MATCH</th>\n",
       "      <td>올인원 패키지 : 업무자동화_3. 엑셀</td>\n",
       "      <td>32287</td>\n",
       "      <td>0</td>\n",
       "      <td>0.000000</td>\n",
       "      <td>0</td>\n",
       "      <td>0</td>\n",
       "    </tr>\n",
       "    <tr>\n",
       "      <th>LTV</th>\n",
       "      <td>마케팅KPI수립</td>\n",
       "      <td>32602</td>\n",
       "      <td>0</td>\n",
       "      <td>0.000000</td>\n",
       "      <td>0</td>\n",
       "      <td>0</td>\n",
       "    </tr>\n",
       "    <tr>\n",
       "      <th>DECISION</th>\n",
       "      <td>data_camp_rmp_8</td>\n",
       "      <td>60844</td>\n",
       "      <td>0</td>\n",
       "      <td>0.000000</td>\n",
       "      <td>0</td>\n",
       "      <td>0</td>\n",
       "    </tr>\n",
       "    <tr>\n",
       "      <th>REST</th>\n",
       "      <td>4. 웹의 동작</td>\n",
       "      <td>61193</td>\n",
       "      <td>0</td>\n",
       "      <td>0.000000</td>\n",
       "      <td>0</td>\n",
       "      <td>0</td>\n",
       "    </tr>\n",
       "  </tbody>\n",
       "</table>\n",
       "<p>1379 rows × 6 columns</p>\n",
       "</div>"
      ],
      "text/plain": [
       "                                광고그룹      노출수   클릭수    클릭률(%)  \\\n",
       "키워드                                                             \n",
       "-                올인원 패키지 : 업무자동화_VBA   767491  8058  1.049915   \n",
       "-         올인원 패키지 : 데이터 분석 입문 온라인_파콘   694106  1864  0.268547   \n",
       "HTML                         3. html  9626374   814  0.008456   \n",
       "파이썬                           6. 파이썬   384522   260  0.067616   \n",
       "코딩                             1. 코딩   562162   271  0.048207   \n",
       "...                              ...      ...   ...       ...   \n",
       "엑셀셀서식          올인원 패키지 : 업무자동화_3. 엑셀    24016     0  0.000000   \n",
       "MATCH          올인원 패키지 : 업무자동화_3. 엑셀    32287     0  0.000000   \n",
       "LTV                         마케팅KPI수립    32602     0  0.000000   \n",
       "DECISION             data_camp_rmp_8    60844     0  0.000000   \n",
       "REST                        4. 웹의 동작    61193     0  0.000000   \n",
       "\n",
       "          평균클릭비용(VAT포함,원)  총비용(VAT포함,원)  \n",
       "키워드                                      \n",
       "-                     296       2384965  \n",
       "-                     631       1175174  \n",
       "HTML                 1408       1145903  \n",
       "파이썬                  3705        964876  \n",
       "코딩                   3243        879560  \n",
       "...                   ...           ...  \n",
       "엑셀셀서식                   0             0  \n",
       "MATCH                   0             0  \n",
       "LTV                     0             0  \n",
       "DECISION                0             0  \n",
       "REST                    0             0  \n",
       "\n",
       "[1379 rows x 6 columns]"
      ]
     },
     "execution_count": 75,
     "metadata": {},
     "output_type": "execute_result"
    }
   ],
   "source": [
    "# Change dataframe index to keyword\n",
    "# set_index('키워드')\n",
    "df_index = df.set_index('키워드')\n",
    "df_index"
   ]
  },
  {
   "cell_type": "code",
   "execution_count": 77,
   "metadata": {},
   "outputs": [],
   "source": [
    "# Create imp variable from df_index and quantile(0.95)\n",
    "imp = df_index['노출수']\n"
   ]
  },
  {
   "cell_type": "code",
   "execution_count": 76,
   "metadata": {},
   "outputs": [
    {
     "data": {
      "text/plain": [
       "2    9626374\n",
       "Name: 노출수, dtype: int64"
      ]
     },
     "execution_count": 76,
     "metadata": {},
     "output_type": "execute_result"
    }
   ],
   "source": [
    "# Output imp variable, extract keywords from top 5% of impressions\n",
    "imp = imp[imp>=imp.quantile(0.95)]\n",
    "imp"
   ]
  },
  {
   "cell_type": "code",
   "execution_count": 78,
   "metadata": {},
   "outputs": [
    {
     "data": {
      "text/plain": [
       "키워드\n",
       "-          8058\n",
       "-          1864\n",
       "HTML        814\n",
       "파이썬         260\n",
       "코딩          271\n",
       "           ... \n",
       "재태크         126\n",
       "모스자격증       198\n",
       "펀드하는법       248\n",
       "채권투자        136\n",
       "주식투자하는법     120\n",
       "Name: 클릭수, Length: 69, dtype: int32"
      ]
     },
     "execution_count": 78,
     "metadata": {},
     "output_type": "execute_result"
    }
   ],
   "source": [
    "# Extract top 5% clicked keywords from df_index\n",
    "clk = df_index['클릭수']\n",
    "clk = clk[clk>=clk.quantile(0.95)]\n",
    "clk"
   ]
  },
  {
   "cell_type": "markdown",
   "metadata": {},
   "source": [
    "### Selection of key management keywords\n",
    "### - Above the 95th percentile for both impressions and clicks\n",
    "\n",
    "### When there are multiple conditions\n",
    "### - dataframe[(conditional statement)&(conditional statement)]"
   ]
  },
  {
   "cell_type": "code",
   "execution_count": 80,
   "metadata": {},
   "outputs": [],
   "source": [
    "# Create imp and clk variables in df_index\n",
    "imp = df_index['노출수']\n",
    "clk = df_index['클릭수']"
   ]
  },
  {
   "cell_type": "code",
   "execution_count": 81,
   "metadata": {},
   "outputs": [
    {
     "data": {
      "text/html": [
       "<div>\n",
       "<style scoped>\n",
       "    .dataframe tbody tr th:only-of-type {\n",
       "        vertical-align: middle;\n",
       "    }\n",
       "\n",
       "    .dataframe tbody tr th {\n",
       "        vertical-align: top;\n",
       "    }\n",
       "\n",
       "    .dataframe thead th {\n",
       "        text-align: right;\n",
       "    }\n",
       "</style>\n",
       "<table border=\"1\" class=\"dataframe\">\n",
       "  <thead>\n",
       "    <tr style=\"text-align: right;\">\n",
       "      <th></th>\n",
       "      <th>광고그룹</th>\n",
       "      <th>노출수</th>\n",
       "      <th>클릭수</th>\n",
       "      <th>클릭률(%)</th>\n",
       "      <th>평균클릭비용(VAT포함,원)</th>\n",
       "      <th>총비용(VAT포함,원)</th>\n",
       "    </tr>\n",
       "    <tr>\n",
       "      <th>키워드</th>\n",
       "      <th></th>\n",
       "      <th></th>\n",
       "      <th></th>\n",
       "      <th></th>\n",
       "      <th></th>\n",
       "      <th></th>\n",
       "    </tr>\n",
       "  </thead>\n",
       "  <tbody>\n",
       "    <tr>\n",
       "      <th>-</th>\n",
       "      <td>올인원 패키지 : 업무자동화_VBA</td>\n",
       "      <td>767491</td>\n",
       "      <td>8058</td>\n",
       "      <td>1.049915</td>\n",
       "      <td>296</td>\n",
       "      <td>2384965</td>\n",
       "    </tr>\n",
       "    <tr>\n",
       "      <th>-</th>\n",
       "      <td>올인원 패키지 : 데이터 분석 입문 온라인_파콘</td>\n",
       "      <td>694106</td>\n",
       "      <td>1864</td>\n",
       "      <td>0.268547</td>\n",
       "      <td>631</td>\n",
       "      <td>1175174</td>\n",
       "    </tr>\n",
       "    <tr>\n",
       "      <th>HTML</th>\n",
       "      <td>3. html</td>\n",
       "      <td>9626374</td>\n",
       "      <td>814</td>\n",
       "      <td>0.008456</td>\n",
       "      <td>1408</td>\n",
       "      <td>1145903</td>\n",
       "    </tr>\n",
       "    <tr>\n",
       "      <th>파이썬</th>\n",
       "      <td>6. 파이썬</td>\n",
       "      <td>384522</td>\n",
       "      <td>260</td>\n",
       "      <td>0.067616</td>\n",
       "      <td>3705</td>\n",
       "      <td>964876</td>\n",
       "    </tr>\n",
       "    <tr>\n",
       "      <th>코딩</th>\n",
       "      <td>1. 코딩</td>\n",
       "      <td>562162</td>\n",
       "      <td>271</td>\n",
       "      <td>0.048207</td>\n",
       "      <td>3243</td>\n",
       "      <td>879560</td>\n",
       "    </tr>\n",
       "    <tr>\n",
       "      <th>C언어</th>\n",
       "      <td>2. C언어 일반</td>\n",
       "      <td>271370</td>\n",
       "      <td>154</td>\n",
       "      <td>0.056749</td>\n",
       "      <td>5269</td>\n",
       "      <td>809358</td>\n",
       "    </tr>\n",
       "    <tr>\n",
       "      <th>가상화폐</th>\n",
       "      <td>프로그래밍 전체_파워컨텐츠_블록체인(삭제)</td>\n",
       "      <td>91369</td>\n",
       "      <td>2838</td>\n",
       "      <td>3.106086</td>\n",
       "      <td>283</td>\n",
       "      <td>803770</td>\n",
       "    </tr>\n",
       "    <tr>\n",
       "      <th>포토샵</th>\n",
       "      <td>AOP 전체_중복키워드_디자인</td>\n",
       "      <td>1887822</td>\n",
       "      <td>394</td>\n",
       "      <td>0.020871</td>\n",
       "      <td>1914</td>\n",
       "      <td>753247</td>\n",
       "    </tr>\n",
       "    <tr>\n",
       "      <th>블록체인</th>\n",
       "      <td>블록체인 신사업 시작하기</td>\n",
       "      <td>200243</td>\n",
       "      <td>236</td>\n",
       "      <td>0.117857</td>\n",
       "      <td>2722</td>\n",
       "      <td>643478</td>\n",
       "    </tr>\n",
       "    <tr>\n",
       "      <th>엑셀</th>\n",
       "      <td>AOP 전체_중복키워드_비지니스</td>\n",
       "      <td>1470452</td>\n",
       "      <td>450</td>\n",
       "      <td>0.030603</td>\n",
       "      <td>1409</td>\n",
       "      <td>633897</td>\n",
       "    </tr>\n",
       "    <tr>\n",
       "      <th>-</th>\n",
       "      <td>올인원 패키지 : 데이터 분석 입문(파컨)</td>\n",
       "      <td>139717</td>\n",
       "      <td>618</td>\n",
       "      <td>0.442323</td>\n",
       "      <td>636</td>\n",
       "      <td>393327</td>\n",
       "    </tr>\n",
       "    <tr>\n",
       "      <th>포토샵</th>\n",
       "      <td>올인원 패키지 : 디자인 툴_파워컨텐츠_포토샵</td>\n",
       "      <td>124068</td>\n",
       "      <td>2536</td>\n",
       "      <td>2.044040</td>\n",
       "      <td>150</td>\n",
       "      <td>381359</td>\n",
       "    </tr>\n",
       "    <tr>\n",
       "      <th>컴퓨터활용능력</th>\n",
       "      <td>올인원 패키지 : 업무자동화_VBA</td>\n",
       "      <td>139729</td>\n",
       "      <td>1535</td>\n",
       "      <td>1.098555</td>\n",
       "      <td>239</td>\n",
       "      <td>367147</td>\n",
       "    </tr>\n",
       "    <tr>\n",
       "      <th>컴퓨터활용능력2급</th>\n",
       "      <td>올인원 패키지 : 업무자동화_VBA</td>\n",
       "      <td>88751</td>\n",
       "      <td>1283</td>\n",
       "      <td>1.445618</td>\n",
       "      <td>234</td>\n",
       "      <td>300058</td>\n",
       "    </tr>\n",
       "    <tr>\n",
       "      <th>컴퓨터활용능력1급</th>\n",
       "      <td>올인원 패키지 : 업무자동화_VBA</td>\n",
       "      <td>94757</td>\n",
       "      <td>1192</td>\n",
       "      <td>1.257955</td>\n",
       "      <td>237</td>\n",
       "      <td>282018</td>\n",
       "    </tr>\n",
       "    <tr>\n",
       "      <th>포토샵</th>\n",
       "      <td>ㅍAOP 전체_중복키워드_디자인(삭제)</td>\n",
       "      <td>1021846</td>\n",
       "      <td>157</td>\n",
       "      <td>0.015364</td>\n",
       "      <td>1625</td>\n",
       "      <td>255475</td>\n",
       "    </tr>\n",
       "    <tr>\n",
       "      <th>-</th>\n",
       "      <td>올인원 패키지 : 프로그래밍 첫걸음 시작하기</td>\n",
       "      <td>88800</td>\n",
       "      <td>599</td>\n",
       "      <td>0.674550</td>\n",
       "      <td>352</td>\n",
       "      <td>210650</td>\n",
       "    </tr>\n",
       "    <tr>\n",
       "      <th>프리미어프로</th>\n",
       "      <td>AOP 전체_중복키워드_디자인</td>\n",
       "      <td>213033</td>\n",
       "      <td>132</td>\n",
       "      <td>0.061962</td>\n",
       "      <td>1574</td>\n",
       "      <td>207702</td>\n",
       "    </tr>\n",
       "    <tr>\n",
       "      <th>폰트</th>\n",
       "      <td>타이포그래피와 편집디자인</td>\n",
       "      <td>478588</td>\n",
       "      <td>474</td>\n",
       "      <td>0.099041</td>\n",
       "      <td>396</td>\n",
       "      <td>187693</td>\n",
       "    </tr>\n",
       "    <tr>\n",
       "      <th>스케치</th>\n",
       "      <td>AOP 전체_중복키워드_디자인</td>\n",
       "      <td>200487</td>\n",
       "      <td>133</td>\n",
       "      <td>0.066338</td>\n",
       "      <td>1166</td>\n",
       "      <td>155254</td>\n",
       "    </tr>\n",
       "    <tr>\n",
       "      <th>포토샵</th>\n",
       "      <td>포토샵 유치원_일러스트레이터 유치원</td>\n",
       "      <td>691814</td>\n",
       "      <td>130</td>\n",
       "      <td>0.018791</td>\n",
       "      <td>1052</td>\n",
       "      <td>136279</td>\n",
       "    </tr>\n",
       "    <tr>\n",
       "      <th>글씨체</th>\n",
       "      <td>타이포그래피와 편집디자인</td>\n",
       "      <td>106648</td>\n",
       "      <td>216</td>\n",
       "      <td>0.202535</td>\n",
       "      <td>425</td>\n",
       "      <td>91806</td>\n",
       "    </tr>\n",
       "    <tr>\n",
       "      <th>한글폰트</th>\n",
       "      <td>타이포그래피와 편집디자인</td>\n",
       "      <td>82983</td>\n",
       "      <td>206</td>\n",
       "      <td>0.248244</td>\n",
       "      <td>308</td>\n",
       "      <td>63492</td>\n",
       "    </tr>\n",
       "    <tr>\n",
       "      <th>마블</th>\n",
       "      <td>ㅍAOP 전체_중복키워드_디자인(삭제)</td>\n",
       "      <td>907619</td>\n",
       "      <td>228</td>\n",
       "      <td>0.025121</td>\n",
       "      <td>265</td>\n",
       "      <td>60533</td>\n",
       "    </tr>\n",
       "    <tr>\n",
       "      <th>바이럴마케팅</th>\n",
       "      <td>마케팅 전체</td>\n",
       "      <td>3095998</td>\n",
       "      <td>262</td>\n",
       "      <td>0.008463</td>\n",
       "      <td>220</td>\n",
       "      <td>57563</td>\n",
       "    </tr>\n",
       "  </tbody>\n",
       "</table>\n",
       "</div>"
      ],
      "text/plain": [
       "                                 광고그룹      노출수   클릭수    클릭률(%)  \\\n",
       "키워드                                                              \n",
       "-                 올인원 패키지 : 업무자동화_VBA   767491  8058  1.049915   \n",
       "-          올인원 패키지 : 데이터 분석 입문 온라인_파콘   694106  1864  0.268547   \n",
       "HTML                          3. html  9626374   814  0.008456   \n",
       "파이썬                            6. 파이썬   384522   260  0.067616   \n",
       "코딩                              1. 코딩   562162   271  0.048207   \n",
       "C언어                         2. C언어 일반   271370   154  0.056749   \n",
       "가상화폐          프로그래밍 전체_파워컨텐츠_블록체인(삭제)    91369  2838  3.106086   \n",
       "포토샵                  AOP 전체_중복키워드_디자인  1887822   394  0.020871   \n",
       "블록체인                    블록체인 신사업 시작하기   200243   236  0.117857   \n",
       "엑셀                  AOP 전체_중복키워드_비지니스  1470452   450  0.030603   \n",
       "-             올인원 패키지 : 데이터 분석 입문(파컨)   139717   618  0.442323   \n",
       "포토샵         올인원 패키지 : 디자인 툴_파워컨텐츠_포토샵   124068  2536  2.044040   \n",
       "컴퓨터활용능력           올인원 패키지 : 업무자동화_VBA   139729  1535  1.098555   \n",
       "컴퓨터활용능력2급         올인원 패키지 : 업무자동화_VBA    88751  1283  1.445618   \n",
       "컴퓨터활용능력1급         올인원 패키지 : 업무자동화_VBA    94757  1192  1.257955   \n",
       "포토샵             ㅍAOP 전체_중복키워드_디자인(삭제)  1021846   157  0.015364   \n",
       "-            올인원 패키지 : 프로그래밍 첫걸음 시작하기    88800   599  0.674550   \n",
       "프리미어프로               AOP 전체_중복키워드_디자인   213033   132  0.061962   \n",
       "폰트                      타이포그래피와 편집디자인   478588   474  0.099041   \n",
       "스케치                  AOP 전체_중복키워드_디자인   200487   133  0.066338   \n",
       "포토샵               포토샵 유치원_일러스트레이터 유치원   691814   130  0.018791   \n",
       "글씨체                     타이포그래피와 편집디자인   106648   216  0.202535   \n",
       "한글폰트                    타이포그래피와 편집디자인    82983   206  0.248244   \n",
       "마블              ㅍAOP 전체_중복키워드_디자인(삭제)   907619   228  0.025121   \n",
       "바이럴마케팅                         마케팅 전체  3095998   262  0.008463   \n",
       "\n",
       "           평균클릭비용(VAT포함,원)  총비용(VAT포함,원)  \n",
       "키워드                                       \n",
       "-                      296       2384965  \n",
       "-                      631       1175174  \n",
       "HTML                  1408       1145903  \n",
       "파이썬                   3705        964876  \n",
       "코딩                    3243        879560  \n",
       "C언어                   5269        809358  \n",
       "가상화폐                   283        803770  \n",
       "포토샵                   1914        753247  \n",
       "블록체인                  2722        643478  \n",
       "엑셀                    1409        633897  \n",
       "-                      636        393327  \n",
       "포토샵                    150        381359  \n",
       "컴퓨터활용능력                239        367147  \n",
       "컴퓨터활용능력2급              234        300058  \n",
       "컴퓨터활용능력1급              237        282018  \n",
       "포토샵                   1625        255475  \n",
       "-                      352        210650  \n",
       "프리미어프로                1574        207702  \n",
       "폰트                     396        187693  \n",
       "스케치                   1166        155254  \n",
       "포토샵                   1052        136279  \n",
       "글씨체                    425         91806  \n",
       "한글폰트                   308         63492  \n",
       "마블                     265         60533  \n",
       "바이럴마케팅                 220         57563  "
      ]
     },
     "execution_count": 81,
     "metadata": {},
     "output_type": "execute_result"
    }
   ],
   "source": [
    "# Extract the top 5% for both impressions and clicks\n",
    "result = df_index[(imp>=imp.quantile(0.95))&(clk>=clk.quantile(0.95))]\n",
    "result"
   ]
  },
  {
   "cell_type": "code",
   "execution_count": 82,
   "metadata": {},
   "outputs": [
    {
     "data": {
      "text/plain": [
       "Index(['-', '-', 'HTML', '파이썬', '코딩', 'C언어', '가상화폐', '포토샵', '블록체인', '엑셀', '-',\n",
       "       '포토샵', '컴퓨터활용능력', '컴퓨터활용능력2급', '컴퓨터활용능력1급', '포토샵', '-', '프리미어프로', '폰트',\n",
       "       '스케치', '포토샵', '글씨체', '한글폰트', '마블', '바이럴마케팅'],\n",
       "      dtype='object', name='키워드')"
      ]
     },
     "execution_count": 82,
     "metadata": {},
     "output_type": "execute_result"
    }
   ],
   "source": [
    "# index - Output key management keywords\n",
    "result.index"
   ]
  },
  {
   "cell_type": "markdown",
   "metadata": {},
   "source": [
    "### 저효율 키워드 선별"
   ]
  },
  {
   "cell_type": "code",
   "execution_count": 83,
   "metadata": {},
   "outputs": [
    {
     "name": "stderr",
     "output_type": "stream",
     "text": [
      "C:\\Users\\kcw98\\anaconda3\\lib\\site-packages\\matplotlib\\backends\\backend_agg.py:238: RuntimeWarning: Glyph 45432 missing from current font.\n",
      "  font.set_text(s, 0.0, flags=flags)\n",
      "C:\\Users\\kcw98\\anaconda3\\lib\\site-packages\\matplotlib\\backends\\backend_agg.py:238: RuntimeWarning: Glyph 52636 missing from current font.\n",
      "  font.set_text(s, 0.0, flags=flags)\n",
      "C:\\Users\\kcw98\\anaconda3\\lib\\site-packages\\matplotlib\\backends\\backend_agg.py:238: RuntimeWarning: Glyph 49688 missing from current font.\n",
      "  font.set_text(s, 0.0, flags=flags)\n",
      "C:\\Users\\kcw98\\anaconda3\\lib\\site-packages\\matplotlib\\backends\\backend_agg.py:201: RuntimeWarning: Glyph 45432 missing from current font.\n",
      "  font.set_text(s, 0, flags=flags)\n",
      "C:\\Users\\kcw98\\anaconda3\\lib\\site-packages\\matplotlib\\backends\\backend_agg.py:201: RuntimeWarning: Glyph 52636 missing from current font.\n",
      "  font.set_text(s, 0, flags=flags)\n",
      "C:\\Users\\kcw98\\anaconda3\\lib\\site-packages\\matplotlib\\backends\\backend_agg.py:201: RuntimeWarning: Glyph 49688 missing from current font.\n",
      "  font.set_text(s, 0, flags=flags)\n"
     ]
    },
    {
     "data": {
      "image/png": "[encoded data removed]",
      "text/plain": [
       "<Figure size 432x288 with 1 Axes>"
      ]
     },
     "metadata": {
      "needs_background": "light"
     },
     "output_type": "display_data"
    }
   ],
   "source": [
    "# Impressions line graph\n",
    "imp_sort.plot()\n",
    "plt.show()"
   ]
  },
  {
   "cell_type": "markdown",
   "metadata": {},
   "source": [
    "#### - Keywords that cost a lot of money even though they are not in the top 5% in terms of number of impressions and clicks\n",
    "        1. Impressions below the 95th percentile\n",
    "        2. Clicks below the 95th percentile\n",
    "        3. Total cost above 85th percentile\n",
    "        4. Total cost below the 95th percentile"
   ]
  },
  {
   "cell_type": "markdown",
   "metadata": {},
   "source": [
    "### When there are multiple conditions\n",
    "    - dataframe[(conditional statement)&(conditional statement)]"
   ]
  },
  {
   "cell_type": "code",
   "execution_count": 84,
   "metadata": {
    "scrolled": true
   },
   "outputs": [
    {
     "data": {
      "text/plain": [
       "Index(['온라인마케팅교육', '온라인마케팅', '어플제작비용', '부동산경매', '퍼포먼스마케팅', 'C++', '게임만드는프로그램',\n",
       "       '엑셀배우기', '앱만들기', '영상제작', '쇼핑몰제작', '에프터이펙트', '어플리케이션제작', '강남빌딩매매',\n",
       "       '웹디자인', '디지털마케팅', '포토샵강의', '구글애널리틱스자격증', 'PYTHON', '페이스북광고', '유튜브마케팅',\n",
       "       '게임제작', '부동산투자', '마케팅전략', 'PYTHON', '홈페이지만들기', 'B2B사이트', 'JAVASCRIPT',\n",
       "       '파이썬강좌', '인스타그램광고', '동영상제작', 'SEO', '쇼핑몰창업', '인터넷쇼핑몰', '게임프로그래밍학원',\n",
       "       '프로그래밍', '서울빌딩매매', '데이터사이언스', '모바일게임제작', '엑셀학원', '유튜브크리에이터', '엑셀VBA',\n",
       "       '영상편집학원', '텐서플로우', '쇼핑몰홈페이지제작', '엑셀교육', '그로스해킹', '게임개발', '광고대행사',\n",
       "       '통계학원', '모바일앱개발', '안드로이드앱만들기', '파이썬기초', '하이브리드앱', '온라인마케팅', '인디자인',\n",
       "       '검색엔진최적화', '엑셀실무', '인터넷쇼핑몰제작', '상가빌딩매매', '퍼포먼스마케팅', '쇼핑몰', 'UX디자인',\n",
       "       '유니티강좌', 'VBA', '코딩이란', 'SNS마케팅', 'GA자격증', '콘텐츠제작', '구글애널리틱스', 'UI디자인',\n",
       "       '1인미디어', '포토샵자격증', '하이브리드앱', '포토샵자격증', '브랜드네이밍', '리플렛디자인', '데이터사이언티스트',\n",
       "       '유니티3D', '자바스크립트', '일러스트레이터강좌', '데이터분석준전문가', '유튜브편집', '모션그래픽', '리플렛디자인',\n",
       "       'SPRING', '어도비일러스트레이터', 'SNS광고', '쇼핑몰촬영', '브랜드마케팅', '데이터분석', 'PHP',\n",
       "       'UXUI', 'SQL', 'UI디자인', '웹크롤링', '페이스북광고'],\n",
       "      dtype='object', name='키워드')"
      ]
     },
     "execution_count": 84,
     "metadata": {},
     "output_type": "execute_result"
    }
   ],
   "source": [
    "# Create cost variable with df_index\n",
    "cost = df_index['총비용(VAT포함,원)']\n",
    "\n",
    "# dataframe[(conditional statement)&(conditional statement)]\n",
    "result = df_index[(imp<imp.quantile(0.95))&(clk<clk.quantile(0.95))&(cost>=cost.quantile(0.85))&(cost<cost.quantile(0.95))]\n",
    "\n",
    "# print index\n",
    "result.index"
   ]
  },
  {
   "cell_type": "code",
   "execution_count": null,
   "metadata": {},
   "outputs": [],
   "source": []
  }
 ],
 "metadata": {
  "kernelspec": {
   "display_name": "Python 3",
   "language": "python",
   "name": "python3"
  },
  "language_info": {
   "codemirror_mode": {
    "name": "ipython",
    "version": 3
   },
   "file_extension": ".py",
   "mimetype": "text/x-python",
   "name": "python",
   "nbconvert_exporter": "python",
   "pygments_lexer": "ipython3",
   "version": "3.8.5"
  }
 },
 "nbformat": 4,
 "nbformat_minor": 4
}
